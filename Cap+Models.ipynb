{
 "cells": [
  {
   "cell_type": "code",
   "execution_count": 482,
   "metadata": {
    "collapsed": false,
    "deletable": true,
    "editable": true
   },
   "outputs": [],
   "source": [
    "import pandas as pd\n",
    "from sklearn import preprocessing\n",
    "from sklearn.cross_validation import train_test_split\n",
    "from sklearn.ensemble import ExtraTreesClassifier, RandomForestClassifier\n",
    "from sklearn.grid_search import GridSearchCV, ParameterGrid"
   ]
  },
  {
   "cell_type": "markdown",
   "metadata": {},
   "source": [
    "# Shelter Animal Outcome Project\n",
    "\n",
    "The purpose of the project is to predict outcomes of shelter animals as they leave the Animal Center. The data is form a Kaggle competition: https://www.kaggle.com/c/shelter-animal-outcomes/test I use the data comes from Austin Animal Center (October 1st, 2013 - March, 2016). Outcomes represent the status of animals as they leave the Animal Center.\n",
    "\n",
    "I come out with a interactive app version of prediction as a final product. I am still working on the development to a website for the app."
   ]
  },
  {
   "cell_type": "code",
   "execution_count": 483,
   "metadata": {
    "collapsed": true,
    "deletable": true,
    "editable": true
   },
   "outputs": [],
   "source": [
    "#loading the data\n",
    "animals = pd.read_csv('train.csv')"
   ]
  },
  {
   "cell_type": "code",
   "execution_count": 484,
   "metadata": {
    "collapsed": false,
    "deletable": true,
    "editable": true
   },
   "outputs": [
    {
     "data": {
      "text/plain": [
       "Index([u'AnimalID', u'Name', u'DateTime', u'OutcomeType', u'OutcomeSubtype',\n",
       "       u'AnimalType', u'SexuponOutcome', u'AgeuponOutcome', u'Breed',\n",
       "       u'Color'],\n",
       "      dtype='object')"
      ]
     },
     "execution_count": 484,
     "metadata": {},
     "output_type": "execute_result"
    }
   ],
   "source": [
    "animals.columns"
   ]
  },
  {
   "cell_type": "markdown",
   "metadata": {},
   "source": [
    "LabelEncoder comes very handy to label the outcomes of the data"
   ]
  },
  {
   "cell_type": "code",
   "execution_count": 485,
   "metadata": {
    "collapsed": false,
    "deletable": true,
    "editable": true,
    "scrolled": true
   },
   "outputs": [],
   "source": [
    "le_outcome = preprocessing.LabelEncoder()\n",
    "le_outcome.fit(animals['OutcomeType'])\n",
    "y = le_outcome.transform(animals['OutcomeType'])\n",
    "Data = animals.drop(['AnimalID', 'OutcomeType', 'OutcomeSubtype'], axis = 1)"
   ]
  },
  {
   "cell_type": "code",
   "execution_count": 486,
   "metadata": {
    "collapsed": false,
    "deletable": true,
    "editable": true
   },
   "outputs": [
    {
     "data": {
      "text/html": [
       "<div>\n",
       "<style>\n",
       "    .dataframe thead tr:only-child th {\n",
       "        text-align: right;\n",
       "    }\n",
       "\n",
       "    .dataframe thead th {\n",
       "        text-align: left;\n",
       "    }\n",
       "\n",
       "    .dataframe tbody tr th {\n",
       "        vertical-align: top;\n",
       "    }\n",
       "</style>\n",
       "<table border=\"1\" class=\"dataframe\">\n",
       "  <thead>\n",
       "    <tr style=\"text-align: right;\">\n",
       "      <th></th>\n",
       "      <th>Name</th>\n",
       "      <th>DateTime</th>\n",
       "      <th>AnimalType</th>\n",
       "      <th>SexuponOutcome</th>\n",
       "      <th>AgeuponOutcome</th>\n",
       "      <th>Breed</th>\n",
       "      <th>Color</th>\n",
       "    </tr>\n",
       "  </thead>\n",
       "  <tbody>\n",
       "    <tr>\n",
       "      <th>0</th>\n",
       "      <td>Hambone</td>\n",
       "      <td>2/12/14 18:22</td>\n",
       "      <td>Dog</td>\n",
       "      <td>Neutered Male</td>\n",
       "      <td>1 year</td>\n",
       "      <td>Shetland Sheepdog Mix</td>\n",
       "      <td>Brown/White</td>\n",
       "    </tr>\n",
       "    <tr>\n",
       "      <th>1</th>\n",
       "      <td>Emily</td>\n",
       "      <td>10/13/13 12:44</td>\n",
       "      <td>Cat</td>\n",
       "      <td>Spayed Female</td>\n",
       "      <td>1 year</td>\n",
       "      <td>Domestic Shorthair Mix</td>\n",
       "      <td>Cream Tabby</td>\n",
       "    </tr>\n",
       "    <tr>\n",
       "      <th>2</th>\n",
       "      <td>Pearce</td>\n",
       "      <td>1/31/15 12:28</td>\n",
       "      <td>Dog</td>\n",
       "      <td>Neutered Male</td>\n",
       "      <td>2 years</td>\n",
       "      <td>Pit Bull Mix</td>\n",
       "      <td>Blue/White</td>\n",
       "    </tr>\n",
       "    <tr>\n",
       "      <th>3</th>\n",
       "      <td>NaN</td>\n",
       "      <td>7/11/14 19:09</td>\n",
       "      <td>Cat</td>\n",
       "      <td>Intact Male</td>\n",
       "      <td>3 weeks</td>\n",
       "      <td>Domestic Shorthair Mix</td>\n",
       "      <td>Blue Cream</td>\n",
       "    </tr>\n",
       "    <tr>\n",
       "      <th>4</th>\n",
       "      <td>NaN</td>\n",
       "      <td>11/15/13 12:52</td>\n",
       "      <td>Dog</td>\n",
       "      <td>Neutered Male</td>\n",
       "      <td>2 years</td>\n",
       "      <td>Lhasa Apso/Miniature Poodle</td>\n",
       "      <td>Tan</td>\n",
       "    </tr>\n",
       "  </tbody>\n",
       "</table>\n",
       "</div>"
      ],
      "text/plain": [
       "      Name        DateTime AnimalType SexuponOutcome AgeuponOutcome  \\\n",
       "0  Hambone   2/12/14 18:22        Dog  Neutered Male         1 year   \n",
       "1    Emily  10/13/13 12:44        Cat  Spayed Female         1 year   \n",
       "2   Pearce   1/31/15 12:28        Dog  Neutered Male        2 years   \n",
       "3      NaN   7/11/14 19:09        Cat    Intact Male        3 weeks   \n",
       "4      NaN  11/15/13 12:52        Dog  Neutered Male        2 years   \n",
       "\n",
       "                         Breed        Color  \n",
       "0        Shetland Sheepdog Mix  Brown/White  \n",
       "1       Domestic Shorthair Mix  Cream Tabby  \n",
       "2                 Pit Bull Mix   Blue/White  \n",
       "3       Domestic Shorthair Mix   Blue Cream  \n",
       "4  Lhasa Apso/Miniature Poodle          Tan  "
      ]
     },
     "execution_count": 486,
     "metadata": {},
     "output_type": "execute_result"
    }
   ],
   "source": [
    "Data.head()"
   ]
  },
  {
   "cell_type": "markdown",
   "metadata": {},
   "source": [
    "I seperated sex and neutered data from SexuponOutcome column"
   ]
  },
  {
   "cell_type": "code",
   "execution_count": 487,
   "metadata": {
    "collapsed": false,
    "deletable": true,
    "editable": true
   },
   "outputs": [],
   "source": [
    "def get_sex(x):\n",
    "    x = str(x)\n",
    "    if x.find('Male') >= 0: return 'male'\n",
    "    if x.find('Female') >= 0: return 'female'\n",
    "    return 'unknown'\n",
    "def get_neutered(x):\n",
    "    x = str(x)\n",
    "    if x.find('Spayed') >= 0: return 'neutered'\n",
    "    if x.find('Neutered') >= 0: return 'neutered'\n",
    "    if x.find('Intact') >= 0: return 'intact'\n",
    "    return 'unknown'"
   ]
  },
  {
   "cell_type": "code",
   "execution_count": 488,
   "metadata": {
    "collapsed": true,
    "deletable": true,
    "editable": true
   },
   "outputs": [],
   "source": [
    "Data['Sex'] = Data.SexuponOutcome.apply(get_sex)\n",
    "Data['Neutered'] = Data.SexuponOutcome.apply(get_neutered)"
   ]
  },
  {
   "cell_type": "markdown",
   "metadata": {},
   "source": [
    "I converted all the age column to normalize them into Year"
   ]
  },
  {
   "cell_type": "code",
   "execution_count": 489,
   "metadata": {
    "collapsed": true,
    "deletable": true,
    "editable": true
   },
   "outputs": [],
   "source": [
    "def calc_age_in_years(x):\n",
    "    x = str(x)\n",
    "    if x == 'nan': return 0\n",
    "    age = int(x.split()[0])\n",
    "    if x.find('year') > -1: return age \n",
    "    if x.find('month')> -1: return age / 12.\n",
    "    if x.find('week')> -1: return age / 52.\n",
    "    if x.find('day')> -1: return age / 365.\n",
    "    else: return 0\n",
    "Data['AgeInYears'] = Data.AgeuponOutcome.apply(calc_age_in_years)"
   ]
  },
  {
   "cell_type": "markdown",
   "metadata": {},
   "source": [
    "I distinguished the animals with name and without name"
   ]
  },
  {
   "cell_type": "code",
   "execution_count": 490,
   "metadata": {
    "collapsed": true,
    "deletable": true,
    "editable": true
   },
   "outputs": [],
   "source": [
    "Data['Name'] =Data['Name'].fillna(0)\n",
    "Data.loc[Data['Name'] != 0, \"Name\"] = 1\n"
   ]
  },
  {
   "cell_type": "markdown",
   "metadata": {},
   "source": [
    "The hour of the date and the day of week is drown out from DateTime column"
   ]
  },
  {
   "cell_type": "code",
   "execution_count": 491,
   "metadata": {
    "collapsed": false
   },
   "outputs": [],
   "source": [
    "Data['Hour'] = Data.DateTime.map( lambda x: pd.to_datetime(x).hour )\n",
    "Data['Day_of_Week'] = Data.DateTime.map( lambda x: pd.to_datetime(x).dayofweek )\n",
    "Data.loc[Data[\"Day_of_Week\"]== 5, \"Day_of_Week\"] = 8\n",
    "Data.loc[Data[\"Day_of_Week\"]== 6, \"Day_of_Week\"] = 8\n",
    "Data.loc[Data[\"Day_of_Week\"]!= 8, \"Day_of_Week\"] = 0\n",
    "Data.loc[Data[\"Day_of_Week\"]== 8, \"Day_of_Week\"] = 1"
   ]
  },
  {
   "cell_type": "code",
   "execution_count": 492,
   "metadata": {
    "collapsed": false
   },
   "outputs": [
    {
     "data": {
      "image/png": "[encoded data removed]",
      "text/plain": [
       "<matplotlib.figure.Figure at 0x7f7f727575d0>"
      ]
     },
     "metadata": {},
     "output_type": "display_data"
    }
   ],
   "source": [
    "import seaborn as sns\n",
    "sns.countplot( x=Data['Hour'],hue=animals[\"OutcomeType\"], palette = \"Set3\")\n",
    "plt.show()"
   ]
  },
  {
   "cell_type": "markdown",
   "metadata": {},
   "source": [
    "The animal are adopted more likely at 16-19 and 7-8; transfered at 0, 9, 12-15. \n",
    "features: 16and19, 17and18, 7and8, 9, 0, 12and13, 14and15, other_time."
   ]
  },
  {
   "cell_type": "code",
   "execution_count": 493,
   "metadata": {
    "collapsed": false
   },
   "outputs": [],
   "source": [
    "def day(x):\n",
    "    if x == 16 or x == 19:\n",
    "        x = \"16and19\"\n",
    "    elif x == 17 or x == 18:\n",
    "        x = \"17and18\"\n",
    "    elif x == 7 or x == 8:\n",
    "        x = \"7and8\"\n",
    "    elif x == 12 or x == 13:\n",
    "        x = \"12and13\"\n",
    "    elif x == 14 or x == 15:\n",
    "        x = \"14and15\"\n",
    "    elif x == 9:\n",
    "        x = \"9\"\n",
    "    elif x == 0:\n",
    "        x = \"0\"\n",
    "    else:\n",
    "        x = \"other_time\"\n",
    "    return x\n",
    "       \n",
    "Data['Hour'] = Data.Hour.apply(day)"
   ]
  },
  {
   "cell_type": "code",
   "execution_count": 494,
   "metadata": {
    "collapsed": false
   },
   "outputs": [
    {
     "data": {
      "text/plain": [
       "array(['17and18', '12and13', '16and19', '7and8', '14and15', 'other_time',\n",
       "       '0', '9'], dtype=object)"
      ]
     },
     "execution_count": 494,
     "metadata": {},
     "output_type": "execute_result"
    }
   ],
   "source": [
    "Data['Hour'].unique()"
   ]
  },
  {
   "cell_type": "markdown",
   "metadata": {},
   "source": [
    "Since there are too many of animal breed, I included the ones exceed 150"
   ]
  },
  {
   "cell_type": "code",
   "execution_count": 495,
   "metadata": {
    "collapsed": false
   },
   "outputs": [
    {
     "data": {
      "text/plain": [
       "Domestic Shorthair Mix       8810\n",
       "Pit Bull Mix                 1906\n",
       "Chihuahua Shorthair Mix      1766\n",
       "Labrador Retriever Mix       1363\n",
       "Domestic Medium Hair Mix      839\n",
       "German Shepherd Mix           575\n",
       "Domestic Longhair Mix         520\n",
       "Siamese Mix                   389\n",
       "Australian Cattle Dog Mix     367\n",
       "Dachshund Mix                 318\n",
       "Boxer Mix                     245\n",
       "Miniature Poodle Mix          233\n",
       "Border Collie Mix             229\n",
       "Australian Shepherd Mix       163\n",
       "Rat Terrier Mix               157\n",
       "Catahoula Mix                 157\n",
       "Name: Breed, dtype: int64"
      ]
     },
     "execution_count": 495,
     "metadata": {},
     "output_type": "execute_result"
    }
   ],
   "source": [
    "items_counts = Data['Breed'].value_counts()\n",
    "items_counts[Data['Breed'].value_counts() > 150]"
   ]
  },
  {
   "cell_type": "code",
   "execution_count": 496,
   "metadata": {
    "collapsed": true
   },
   "outputs": [],
   "source": [
    "my_breeds = [\"Domestic Shorthair\", \"Chihuahua Shorthair\", \"Labrador Retriever\", \n",
    "             \"Domestic Medium Hair\", \"German Shepherd\", \"Domestic Longhair\", \"Siamese\", \"Australian Cattle Dog\", \n",
    "             \"Dachshund\", \"Miniature Poodle\", \"Border Collie\",\"Australian Shepherd\", \"Rat Terrier\", \"Catahoula\", \n",
    "              \"Husky\", \"Rottweiler\", \"Bulldog\", \"Pit Bull\", \"Boxer\"]"
   ]
  },
  {
   "cell_type": "code",
   "execution_count": 497,
   "metadata": {
    "collapsed": true
   },
   "outputs": [],
   "source": [
    "#get the new breed data\n",
    "import re\n",
    "def breeds(x):\n",
    "    x = str(x)\n",
    "    breed = \"other\"\n",
    "    for b in my_breeds:\n",
    "        if re.search(b, x):\n",
    "            breed = b\n",
    "    return breed\n",
    "Data['new_Breeds'] = Data.Breed.apply(breeds)"
   ]
  },
  {
   "cell_type": "code",
   "execution_count": 498,
   "metadata": {
    "collapsed": false
   },
   "outputs": [
    {
     "data": {
      "text/html": [
       "<div>\n",
       "<style>\n",
       "    .dataframe thead tr:only-child th {\n",
       "        text-align: right;\n",
       "    }\n",
       "\n",
       "    .dataframe thead th {\n",
       "        text-align: left;\n",
       "    }\n",
       "\n",
       "    .dataframe tbody tr th {\n",
       "        vertical-align: top;\n",
       "    }\n",
       "</style>\n",
       "<table border=\"1\" class=\"dataframe\">\n",
       "  <thead>\n",
       "    <tr style=\"text-align: right;\">\n",
       "      <th></th>\n",
       "      <th>Name</th>\n",
       "      <th>DateTime</th>\n",
       "      <th>AnimalType</th>\n",
       "      <th>SexuponOutcome</th>\n",
       "      <th>AgeuponOutcome</th>\n",
       "      <th>Breed</th>\n",
       "      <th>Color</th>\n",
       "      <th>Sex</th>\n",
       "      <th>Neutered</th>\n",
       "      <th>AgeInYears</th>\n",
       "      <th>Hour</th>\n",
       "      <th>Day_of_Week</th>\n",
       "      <th>new_Breeds</th>\n",
       "    </tr>\n",
       "  </thead>\n",
       "  <tbody>\n",
       "    <tr>\n",
       "      <th>0</th>\n",
       "      <td>1</td>\n",
       "      <td>2/12/14 18:22</td>\n",
       "      <td>Dog</td>\n",
       "      <td>Neutered Male</td>\n",
       "      <td>1 year</td>\n",
       "      <td>Shetland Sheepdog Mix</td>\n",
       "      <td>Brown/White</td>\n",
       "      <td>male</td>\n",
       "      <td>neutered</td>\n",
       "      <td>1.000000</td>\n",
       "      <td>17and18</td>\n",
       "      <td>0</td>\n",
       "      <td>other</td>\n",
       "    </tr>\n",
       "    <tr>\n",
       "      <th>1</th>\n",
       "      <td>1</td>\n",
       "      <td>10/13/13 12:44</td>\n",
       "      <td>Cat</td>\n",
       "      <td>Spayed Female</td>\n",
       "      <td>1 year</td>\n",
       "      <td>Domestic Shorthair Mix</td>\n",
       "      <td>Cream Tabby</td>\n",
       "      <td>female</td>\n",
       "      <td>neutered</td>\n",
       "      <td>1.000000</td>\n",
       "      <td>12and13</td>\n",
       "      <td>1</td>\n",
       "      <td>Domestic Shorthair</td>\n",
       "    </tr>\n",
       "    <tr>\n",
       "      <th>2</th>\n",
       "      <td>1</td>\n",
       "      <td>1/31/15 12:28</td>\n",
       "      <td>Dog</td>\n",
       "      <td>Neutered Male</td>\n",
       "      <td>2 years</td>\n",
       "      <td>Pit Bull Mix</td>\n",
       "      <td>Blue/White</td>\n",
       "      <td>male</td>\n",
       "      <td>neutered</td>\n",
       "      <td>2.000000</td>\n",
       "      <td>12and13</td>\n",
       "      <td>1</td>\n",
       "      <td>Pit Bull</td>\n",
       "    </tr>\n",
       "    <tr>\n",
       "      <th>3</th>\n",
       "      <td>0</td>\n",
       "      <td>7/11/14 19:09</td>\n",
       "      <td>Cat</td>\n",
       "      <td>Intact Male</td>\n",
       "      <td>3 weeks</td>\n",
       "      <td>Domestic Shorthair Mix</td>\n",
       "      <td>Blue Cream</td>\n",
       "      <td>male</td>\n",
       "      <td>intact</td>\n",
       "      <td>0.057692</td>\n",
       "      <td>16and19</td>\n",
       "      <td>0</td>\n",
       "      <td>Domestic Shorthair</td>\n",
       "    </tr>\n",
       "    <tr>\n",
       "      <th>4</th>\n",
       "      <td>0</td>\n",
       "      <td>11/15/13 12:52</td>\n",
       "      <td>Dog</td>\n",
       "      <td>Neutered Male</td>\n",
       "      <td>2 years</td>\n",
       "      <td>Lhasa Apso/Miniature Poodle</td>\n",
       "      <td>Tan</td>\n",
       "      <td>male</td>\n",
       "      <td>neutered</td>\n",
       "      <td>2.000000</td>\n",
       "      <td>12and13</td>\n",
       "      <td>0</td>\n",
       "      <td>Miniature Poodle</td>\n",
       "    </tr>\n",
       "  </tbody>\n",
       "</table>\n",
       "</div>"
      ],
      "text/plain": [
       "  Name        DateTime AnimalType SexuponOutcome AgeuponOutcome  \\\n",
       "0    1   2/12/14 18:22        Dog  Neutered Male         1 year   \n",
       "1    1  10/13/13 12:44        Cat  Spayed Female         1 year   \n",
       "2    1   1/31/15 12:28        Dog  Neutered Male        2 years   \n",
       "3    0   7/11/14 19:09        Cat    Intact Male        3 weeks   \n",
       "4    0  11/15/13 12:52        Dog  Neutered Male        2 years   \n",
       "\n",
       "                         Breed        Color     Sex  Neutered  AgeInYears  \\\n",
       "0        Shetland Sheepdog Mix  Brown/White    male  neutered    1.000000   \n",
       "1       Domestic Shorthair Mix  Cream Tabby  female  neutered    1.000000   \n",
       "2                 Pit Bull Mix   Blue/White    male  neutered    2.000000   \n",
       "3       Domestic Shorthair Mix   Blue Cream    male    intact    0.057692   \n",
       "4  Lhasa Apso/Miniature Poodle          Tan    male  neutered    2.000000   \n",
       "\n",
       "      Hour  Day_of_Week          new_Breeds  \n",
       "0  17and18            0               other  \n",
       "1  12and13            1  Domestic Shorthair  \n",
       "2  12and13            1            Pit Bull  \n",
       "3  16and19            0  Domestic Shorthair  \n",
       "4  12and13            0    Miniature Poodle  "
      ]
     },
     "execution_count": 498,
     "metadata": {},
     "output_type": "execute_result"
    }
   ],
   "source": [
    "Data.head()"
   ]
  },
  {
   "cell_type": "markdown",
   "metadata": {},
   "source": [
    "Now I am sorting out the final training and testing data"
   ]
  },
  {
   "cell_type": "code",
   "execution_count": 499,
   "metadata": {
    "collapsed": false,
    "deletable": true,
    "editable": true
   },
   "outputs": [],
   "source": [
    "x = pd.DataFrame()\n",
    "x = Data.drop(['DateTime','SexuponOutcome','AgeuponOutcome','Breed','Color'], axis = 1)"
   ]
  },
  {
   "cell_type": "markdown",
   "metadata": {},
   "source": [
    "I used LabelEncoder to convert AnimalType, Neutered and Sex to dummy variables"
   ]
  },
  {
   "cell_type": "code",
   "execution_count": 500,
   "metadata": {
    "collapsed": false,
    "deletable": true,
    "editable": true
   },
   "outputs": [],
   "source": [
    "le_type = preprocessing.LabelEncoder()\n",
    "le_type.fit(x['AnimalType'])\n",
    "x['AnimalType']= le_type.transform(x['AnimalType'])\n",
    "\n",
    "le_neutered = preprocessing.LabelEncoder()\n",
    "le_neutered.fit(x['Neutered'])\n",
    "x['Neutered']= le_neutered.transform(x['Neutered'])\n",
    "\n",
    "le_sex = preprocessing.LabelEncoder()\n",
    "le_sex.fit(x['Sex'])\n",
    "x['Sex']= le_sex.transform(x['Sex'])"
   ]
  },
  {
   "cell_type": "markdown",
   "metadata": {},
   "source": [
    "I converted Breeds and Hour into dummy variables"
   ]
  },
  {
   "cell_type": "code",
   "execution_count": 501,
   "metadata": {
    "collapsed": false
   },
   "outputs": [],
   "source": [
    "\n",
    "def new_dum(var):\n",
    "    var_unique = var.unique()\n",
    "    var_unique.sort()\n",
    "    dummy = pd.DataFrame()\n",
    "    for val in var_unique:\n",
    "        # which columns are equal to our unique value\n",
    "        d = var == val\n",
    "        # make a new column with a dummy variable\n",
    "        dummy[var.name + \"_\" + str(val)] = d.astype(int)\n",
    "    return(dummy)\n",
    "\n",
    "Breeds_d = new_dum(x[\"new_Breeds\"])\n",
    "x = pd.concat([x, Breeds_d], axis=1)\n",
    "del x[\"new_Breeds\"]\n",
    "\n",
    "Hour_d = new_dum(Data[\"Hour\"])\n",
    "x = pd.concat([x, Hour_d], axis=1)\n",
    "del x[\"Hour\"]"
   ]
  },
  {
   "cell_type": "code",
   "execution_count": null,
   "metadata": {
    "collapsed": true
   },
   "outputs": [],
   "source": []
  },
  {
   "cell_type": "markdown",
   "metadata": {},
   "source": [
    "Splitting training and testing sets"
   ]
  },
  {
   "cell_type": "code",
   "execution_count": 502,
   "metadata": {
    "collapsed": true,
    "deletable": true,
    "editable": true
   },
   "outputs": [],
   "source": [
    "X_train, X_test, y_train, y_test = train_test_split(\n",
    "    x, y, test_size = 0.3, random_state = 1)"
   ]
  },
  {
   "cell_type": "markdown",
   "metadata": {
    "collapsed": false,
    "deletable": true,
    "editable": true
   },
   "source": [
    "I used four different training algorithms here, with the best log-loss score of 0.85 with SVM"
   ]
  },
  {
   "cell_type": "code",
   "execution_count": 504,
   "metadata": {
    "collapsed": false
   },
   "outputs": [
    {
     "name": "stdout",
     "output_type": "stream",
     "text": [
      "4.86303862033\n"
     ]
    }
   ],
   "source": [
    "from sklearn.ensemble import ExtraTreesClassifier\n",
    "extra = ExtraTreesClassifier(random_state = 25, n_estimators = 3000)\n",
    "extra.fit(X_train, y_train)\n",
    "prob = extra.predict_proba(X_test)\n",
    "score = metrics.log_loss(y_test, prob)\n",
    "print(score)"
   ]
  },
  {
   "cell_type": "code",
   "execution_count": 503,
   "metadata": {
    "collapsed": false,
    "deletable": true,
    "editable": true
   },
   "outputs": [
    {
     "name": "stdout",
     "output_type": "stream",
     "text": [
      "1.35857248883\n"
     ]
    }
   ],
   "source": [
    "from sklearn import metrics\n",
    "rf =  RandomForestClassifier(n_estimators = 3000, random_state = 25)\n",
    "rf.fit(X_train,y_train)\n",
    "prob = rf.predict_proba(X_test)\n",
    "score = metrics.log_loss(y_test, prob)\n",
    "print(score)"
   ]
  },
  {
   "cell_type": "code",
   "execution_count": 505,
   "metadata": {
    "collapsed": false,
    "deletable": true,
    "editable": true
   },
   "outputs": [
    {
     "name": "stdout",
     "output_type": "stream",
     "text": [
      "0.917232028896\n"
     ]
    }
   ],
   "source": [
    "from sklearn.calibration import CalibratedClassifierCV\n",
    "Calib = CalibratedClassifierCV()\n",
    "Calib.fit(X_train, y_train)\n",
    "prob = Calib.predict_proba(X_test)\n",
    "score = metrics.log_loss(y_test, prob)\n",
    "print(score)"
   ]
  },
  {
   "cell_type": "code",
   "execution_count": 507,
   "metadata": {
    "collapsed": false,
    "deletable": true,
    "editable": true
   },
   "outputs": [
    {
     "name": "stdout",
     "output_type": "stream",
     "text": [
      "0.854920285061\n"
     ]
    }
   ],
   "source": [
    "from sklearn import svm\n",
    "S = svm.SVC(random_state = 25, probability = True, kernel = 'rbf')\n",
    "S.fit(X_train, y_train)\n",
    "prob = S.predict_proba(X_test)\n",
    "score = metrics.log_loss(y_test, prob)\n",
    "print(score)"
   ]
  },
  {
   "cell_type": "markdown",
   "metadata": {},
   "source": [
    "# Visualization\n",
    "\n",
    "Below is the visulization part of the project. To get some sence of the data. I used Bokeh to create interactive graphs\n",
    "\n",
    "\n"
   ]
  },
  {
   "cell_type": "code",
   "execution_count": 508,
   "metadata": {
    "collapsed": true
   },
   "outputs": [],
   "source": [
    "import numpy as np\n",
    "import pandas as pd\n",
    "import seaborn as sns\n",
    "import matplotlib.pyplot as plt\n",
    "from bokeh.plotting import figure, show\n",
    "from bokeh.io import output_notebook\n",
    "from bokeh.palettes import Spectral6\n",
    "from bokeh.models.widgets import Panel, Tabs\n",
    "from bokeh.layouts import gridplot\n",
    "from bokeh.charts import Bar, Histogram, output_file, show\n",
    "from ipywidgets import *\n",
    "import requests"
   ]
  },
  {
   "cell_type": "code",
   "execution_count": 509,
   "metadata": {
    "collapsed": false,
    "deletable": true,
    "editable": true
   },
   "outputs": [
    {
     "data": {
      "text/html": [
       "\n",
       "    <div class=\"bk-root\">\n",
       "        <a href=\"http://bokeh.pydata.org\" target=\"_blank\" class=\"bk-logo bk-logo-small bk-logo-notebook\"></a>\n",
       "        <span id=\"ad8cfb81-d0be-45d3-b55d-20df951e0f46\">Loading BokehJS ...</span>\n",
       "    </div>"
      ]
     },
     "metadata": {},
     "output_type": "display_data"
    },
    {
     "data": {
      "application/javascript": [
       "\n",
       "(function(global) {\n",
       "  function now() {\n",
       "    return new Date();\n",
       "  }\n",
       "\n",
       "  var force = true;\n",
       "\n",
       "  if (typeof (window._bokeh_onload_callbacks) === \"undefined\" || force === true) {\n",
       "    window._bokeh_onload_callbacks = [];\n",
       "    window._bokeh_is_loading = undefined;\n",
       "  }\n",
       "\n",
       "\n",
       "  \n",
       "  if (typeof (window._bokeh_timeout) === \"undefined\" || force === true) {\n",
       "    window._bokeh_timeout = Date.now() + 5000;\n",
       "    window._bokeh_failed_load = false;\n",
       "  }\n",
       "\n",
       "  var NB_LOAD_WARNING = {'data': {'text/html':\n",
       "     \"<div style='background-color: #fdd'>\\n\"+\n",
       "     \"<p>\\n\"+\n",
       "     \"BokehJS does not appear to have successfully loaded. If loading BokehJS from CDN, this \\n\"+\n",
       "     \"may be due to a slow or bad network connection. Possible fixes:\\n\"+\n",
       "     \"</p>\\n\"+\n",
       "     \"<ul>\\n\"+\n",
       "     \"<li>re-rerun `output_notebook()` to attempt to load from CDN again, or</li>\\n\"+\n",
       "     \"<li>use INLINE resources instead, as so:</li>\\n\"+\n",
       "     \"</ul>\\n\"+\n",
       "     \"<code>\\n\"+\n",
       "     \"from bokeh.resources import INLINE\\n\"+\n",
       "     \"output_notebook(resources=INLINE)\\n\"+\n",
       "     \"</code>\\n\"+\n",
       "     \"</div>\"}};\n",
       "\n",
       "  function display_loaded() {\n",
       "    if (window.Bokeh !== undefined) {\n",
       "      document.getElementById(\"ad8cfb81-d0be-45d3-b55d-20df951e0f46\").textContent = \"BokehJS successfully loaded.\";\n",
       "    } else if (Date.now() < window._bokeh_timeout) {\n",
       "      setTimeout(display_loaded, 100)\n",
       "    }\n",
       "  }\n",
       "\n",
       "  function run_callbacks() {\n",
       "    window._bokeh_onload_callbacks.forEach(function(callback) { callback() });\n",
       "    delete window._bokeh_onload_callbacks\n",
       "    console.info(\"Bokeh: all callbacks have finished\");\n",
       "  }\n",
       "\n",
       "  function load_libs(js_urls, callback) {\n",
       "    window._bokeh_onload_callbacks.push(callback);\n",
       "    if (window._bokeh_is_loading > 0) {\n",
       "      console.log(\"Bokeh: BokehJS is being loaded, scheduling callback at\", now());\n",
       "      return null;\n",
       "    }\n",
       "    if (js_urls == null || js_urls.length === 0) {\n",
       "      run_callbacks();\n",
       "      return null;\n",
       "    }\n",
       "    console.log(\"Bokeh: BokehJS not loaded, scheduling load and callback at\", now());\n",
       "    window._bokeh_is_loading = js_urls.length;\n",
       "    for (var i = 0; i < js_urls.length; i++) {\n",
       "      var url = js_urls[i];\n",
       "      var s = document.createElement('script');\n",
       "      s.src = url;\n",
       "      s.async = false;\n",
       "      s.onreadystatechange = s.onload = function() {\n",
       "        window._bokeh_is_loading--;\n",
       "        if (window._bokeh_is_loading === 0) {\n",
       "          console.log(\"Bokeh: all BokehJS libraries loaded\");\n",
       "          run_callbacks()\n",
       "        }\n",
       "      };\n",
       "      s.onerror = function() {\n",
       "        console.warn(\"failed to load library \" + url);\n",
       "      };\n",
       "      console.log(\"Bokeh: injecting script tag for BokehJS library: \", url);\n",
       "      document.getElementsByTagName(\"head\")[0].appendChild(s);\n",
       "    }\n",
       "  };var element = document.getElementById(\"ad8cfb81-d0be-45d3-b55d-20df951e0f46\");\n",
       "  if (element == null) {\n",
       "    console.log(\"Bokeh: ERROR: autoload.js configured with elementid 'ad8cfb81-d0be-45d3-b55d-20df951e0f46' but no matching script tag was found. \")\n",
       "    return false;\n",
       "  }\n",
       "\n",
       "  var js_urls = [\"https://cdn.pydata.org/bokeh/release/bokeh-0.12.4.min.js\", \"https://cdn.pydata.org/bokeh/release/bokeh-widgets-0.12.4.min.js\"];\n",
       "\n",
       "  var inline_js = [\n",
       "    function(Bokeh) {\n",
       "      Bokeh.set_log_level(\"info\");\n",
       "    },\n",
       "    \n",
       "    function(Bokeh) {\n",
       "      \n",
       "      document.getElementById(\"ad8cfb81-d0be-45d3-b55d-20df951e0f46\").textContent = \"BokehJS is loading...\";\n",
       "    },\n",
       "    function(Bokeh) {\n",
       "      console.log(\"Bokeh: injecting CSS: https://cdn.pydata.org/bokeh/release/bokeh-0.12.4.min.css\");\n",
       "      Bokeh.embed.inject_css(\"https://cdn.pydata.org/bokeh/release/bokeh-0.12.4.min.css\");\n",
       "      console.log(\"Bokeh: injecting CSS: https://cdn.pydata.org/bokeh/release/bokeh-widgets-0.12.4.min.css\");\n",
       "      Bokeh.embed.inject_css(\"https://cdn.pydata.org/bokeh/release/bokeh-widgets-0.12.4.min.css\");\n",
       "    }\n",
       "  ];\n",
       "\n",
       "  function run_inline_js() {\n",
       "    \n",
       "    if ((window.Bokeh !== undefined) || (force === true)) {\n",
       "      for (var i = 0; i < inline_js.length; i++) {\n",
       "        inline_js[i](window.Bokeh);\n",
       "      }if (force === true) {\n",
       "        display_loaded();\n",
       "      }} else if (Date.now() < window._bokeh_timeout) {\n",
       "      setTimeout(run_inline_js, 100);\n",
       "    } else if (!window._bokeh_failed_load) {\n",
       "      console.log(\"Bokeh: BokehJS failed to load within specified timeout.\");\n",
       "      window._bokeh_failed_load = true;\n",
       "    } else if (force !== true) {\n",
       "      var cell = $(document.getElementById(\"ad8cfb81-d0be-45d3-b55d-20df951e0f46\")).parents('.cell').data().cell;\n",
       "      cell.output_area.append_execute_result(NB_LOAD_WARNING)\n",
       "    }\n",
       "\n",
       "  }\n",
       "\n",
       "  if (window._bokeh_is_loading === 0) {\n",
       "    console.log(\"Bokeh: BokehJS loaded, going straight to plotting\");\n",
       "    run_inline_js();\n",
       "  } else {\n",
       "    load_libs(js_urls, function() {\n",
       "      console.log(\"Bokeh: BokehJS plotting callback run at\", now());\n",
       "      run_inline_js();\n",
       "    });\n",
       "  }\n",
       "}(this));"
      ]
     },
     "metadata": {},
     "output_type": "display_data"
    }
   ],
   "source": [
    "output_notebook()"
   ]
  },
  {
   "cell_type": "code",
   "execution_count": 510,
   "metadata": {
    "collapsed": false,
    "deletable": true,
    "editable": true
   },
   "outputs": [
    {
     "data": {
      "text/html": [
       "\n",
       "\n",
       "    <div class=\"bk-root\">\n",
       "        <div class=\"bk-plotdiv\" id=\"9e5aeaa1-bfdb-490d-a318-8adb632b6e76\"></div>\n",
       "    </div>\n",
       "<script type=\"text/javascript\">\n",
       "  \n",
       "  (function(global) {\n",
       "    function now() {\n",
       "      return new Date();\n",
       "    }\n",
       "  \n",
       "    var force = false;\n",
       "  \n",
       "    if (typeof (window._bokeh_onload_callbacks) === \"undefined\" || force === true) {\n",
       "      window._bokeh_onload_callbacks = [];\n",
       "      window._bokeh_is_loading = undefined;\n",
       "    }\n",
       "  \n",
       "  \n",
       "    \n",
       "    if (typeof (window._bokeh_timeout) === \"undefined\" || force === true) {\n",
       "      window._bokeh_timeout = Date.now() + 0;\n",
       "      window._bokeh_failed_load = false;\n",
       "    }\n",
       "  \n",
       "    var NB_LOAD_WARNING = {'data': {'text/html':\n",
       "       \"<div style='background-color: #fdd'>\\n\"+\n",
       "       \"<p>\\n\"+\n",
       "       \"BokehJS does not appear to have successfully loaded. If loading BokehJS from CDN, this \\n\"+\n",
       "       \"may be due to a slow or bad network connection. Possible fixes:\\n\"+\n",
       "       \"</p>\\n\"+\n",
       "       \"<ul>\\n\"+\n",
       "       \"<li>re-rerun `output_notebook()` to attempt to load from CDN again, or</li>\\n\"+\n",
       "       \"<li>use INLINE resources instead, as so:</li>\\n\"+\n",
       "       \"</ul>\\n\"+\n",
       "       \"<code>\\n\"+\n",
       "       \"from bokeh.resources import INLINE\\n\"+\n",
       "       \"output_notebook(resources=INLINE)\\n\"+\n",
       "       \"</code>\\n\"+\n",
       "       \"</div>\"}};\n",
       "  \n",
       "    function display_loaded() {\n",
       "      if (window.Bokeh !== undefined) {\n",
       "        document.getElementById(\"9e5aeaa1-bfdb-490d-a318-8adb632b6e76\").textContent = \"BokehJS successfully loaded.\";\n",
       "      } else if (Date.now() < window._bokeh_timeout) {\n",
       "        setTimeout(display_loaded, 100)\n",
       "      }\n",
       "    }\n",
       "  \n",
       "    function run_callbacks() {\n",
       "      window._bokeh_onload_callbacks.forEach(function(callback) { callback() });\n",
       "      delete window._bokeh_onload_callbacks\n",
       "      console.info(\"Bokeh: all callbacks have finished\");\n",
       "    }\n",
       "  \n",
       "    function load_libs(js_urls, callback) {\n",
       "      window._bokeh_onload_callbacks.push(callback);\n",
       "      if (window._bokeh_is_loading > 0) {\n",
       "        console.log(\"Bokeh: BokehJS is being loaded, scheduling callback at\", now());\n",
       "        return null;\n",
       "      }\n",
       "      if (js_urls == null || js_urls.length === 0) {\n",
       "        run_callbacks();\n",
       "        return null;\n",
       "      }\n",
       "      console.log(\"Bokeh: BokehJS not loaded, scheduling load and callback at\", now());\n",
       "      window._bokeh_is_loading = js_urls.length;\n",
       "      for (var i = 0; i < js_urls.length; i++) {\n",
       "        var url = js_urls[i];\n",
       "        var s = document.createElement('script');\n",
       "        s.src = url;\n",
       "        s.async = false;\n",
       "        s.onreadystatechange = s.onload = function() {\n",
       "          window._bokeh_is_loading--;\n",
       "          if (window._bokeh_is_loading === 0) {\n",
       "            console.log(\"Bokeh: all BokehJS libraries loaded\");\n",
       "            run_callbacks()\n",
       "          }\n",
       "        };\n",
       "        s.onerror = function() {\n",
       "          console.warn(\"failed to load library \" + url);\n",
       "        };\n",
       "        console.log(\"Bokeh: injecting script tag for BokehJS library: \", url);\n",
       "        document.getElementsByTagName(\"head\")[0].appendChild(s);\n",
       "      }\n",
       "    };var element = document.getElementById(\"9e5aeaa1-bfdb-490d-a318-8adb632b6e76\");\n",
       "    if (element == null) {\n",
       "      console.log(\"Bokeh: ERROR: autoload.js configured with elementid '9e5aeaa1-bfdb-490d-a318-8adb632b6e76' but no matching script tag was found. \")\n",
       "      return false;\n",
       "    }\n",
       "  \n",
       "    var js_urls = [];\n",
       "  \n",
       "    var inline_js = [\n",
       "      function(Bokeh) {\n",
       "        (function() {\n",
       "          var fn = function() {\n",
       "            var docs_json = {\"1804a2e2-5da5-4403-a2a5-adfb78e846cb\":{\"roots\":{\"references\":[{\"attributes\":{\"plot\":{\"id\":\"502a9160-d043-465d-91b0-20b0a0851b7e\",\"subtype\":\"Chart\",\"type\":\"Plot\"}},\"id\":\"b07d0935-6c18-46d5-a07b-fe89e697060b\",\"type\":\"ResetTool\"},{\"attributes\":{\"callback\":null,\"column_names\":[\"line_color\",\"line_alpha\",\"color\",\"fill_alpha\",\"height\",\"width\",\"y\",\"x\",\"label\"],\"data\":{\"OutcomeType\":[\"Died\"],\"chart_index\":[{\"OutcomeType\":\"Died\"}],\"color\":[\"#5ab738\"],\"fill_alpha\":[0.8],\"height\":[197.0],\"label\":[{\"OutcomeType\":\"Died\"}],\"line_alpha\":[1.0],\"line_color\":[\"white\"],\"width\":[0.8],\"x\":[\"Died\"],\"y\":[98.5]}},\"id\":\"fc0484f5-83b8-40cb-a36d-d87ddead089e\",\"type\":\"ColumnDataSource\"},{\"attributes\":{\"plot\":null,\"text\":\"Sex Count\"},\"id\":\"c2e27ecb-e416-449a-92fd-58eed6123b03\",\"type\":\"Title\"},{\"attributes\":{\"label\":{\"value\":\"Transfer\"},\"renderers\":[{\"id\":\"14d207dd-6d0c-402f-aafc-7f6dde920f94\",\"type\":\"GlyphRenderer\"}]},\"id\":\"293773c6-879b-4689-aa22-bb6dee5c54ca\",\"type\":\"LegendItem\"},{\"attributes\":{\"callback\":null,\"column_names\":[\"line_color\",\"line_alpha\",\"color\",\"fill_alpha\",\"height\",\"width\",\"y\",\"x\",\"label\"],\"data\":{\"Neutered\":[\"neutered\"],\"chart_index\":[{\"Neutered\":\"neutered\"}],\"color\":[\"#5ab738\"],\"fill_alpha\":[0.8],\"height\":[18599.0],\"label\":[{\"Neutered\":\"neutered\"}],\"line_alpha\":[1.0],\"line_color\":[\"white\"],\"width\":[0.8],\"x\":[\"neutered\"],\"y\":[9299.5]}},\"id\":\"cf7d27dd-3a20-4273-83d9-cccc64255c0c\",\"type\":\"ColumnDataSource\"},{\"attributes\":{\"dimension\":1,\"plot\":{\"id\":\"6a337397-ebc1-4948-8fe7-089250d5bf1c\",\"subtype\":\"Chart\",\"type\":\"Plot\"},\"ticker\":{\"id\":\"d558b43b-62dc-4617-b983-fb3a1bcb4fe7\",\"type\":\"BasicTicker\"}},\"id\":\"0bc9260a-ec9a-4d34-8121-b85998429b13\",\"type\":\"Grid\"},{\"attributes\":{\"label\":{\"value\":\"Died\"},\"renderers\":[{\"id\":\"6735bb0e-03a0-480c-ab45-80d591ddc4f6\",\"type\":\"GlyphRenderer\"}]},\"id\":\"5eaede21-98ec-48cb-99e3-de50bb889b5a\",\"type\":\"LegendItem\"},{\"attributes\":{},\"id\":\"9caed38f-84e6-4daa-b1d8-5c3ba60601e9\",\"type\":\"BasicTicker\"},{\"attributes\":{\"plot\":{\"id\":\"eab594ee-f431-46dc-915d-e72b12a85206\",\"subtype\":\"Chart\",\"type\":\"Plot\"}},\"id\":\"e5fcd68c-7034-436c-8930-245ec382b70a\",\"type\":\"PanTool\"},{\"attributes\":{\"child\":{\"id\":\"eab594ee-f431-46dc-915d-e72b12a85206\",\"subtype\":\"Chart\",\"type\":\"Plot\"},\"title\":\"Animals\"},\"id\":\"f72a9a3f-ad87-4735-9974-c7dff5604d2a\",\"type\":\"Panel\"},{\"attributes\":{\"overlay\":{\"id\":\"0a0fac3e-fd81-44eb-8828-c1d8dca8ac10\",\"type\":\"BoxAnnotation\"},\"plot\":{\"id\":\"502a9160-d043-465d-91b0-20b0a0851b7e\",\"subtype\":\"Chart\",\"type\":\"Plot\"}},\"id\":\"e6d9a215-cc7e-4fa5-a0ca-e43bf72bfe41\",\"type\":\"BoxZoomTool\"},{\"attributes\":{\"child\":{\"id\":\"9be0667b-e316-4712-9808-b607edefdf73\",\"subtype\":\"Chart\",\"type\":\"Plot\"},\"title\":\"Outcome Type\"},\"id\":\"b075bae8-6d8b-43fc-9639-87192608e771\",\"type\":\"Panel\"},{\"attributes\":{\"fill_alpha\":{\"field\":\"fill_alpha\"},\"fill_color\":{\"field\":\"color\"},\"height\":{\"field\":\"height\",\"units\":\"data\"},\"line_color\":{\"field\":\"line_color\"},\"width\":{\"field\":\"width\",\"units\":\"data\"},\"x\":{\"field\":\"x\"},\"y\":{\"field\":\"y\"}},\"id\":\"359d5a6d-27ba-4db0-a826-bfcfab93773f\",\"type\":\"Rect\"},{\"attributes\":{\"label\":{\"value\":\"neutered\"},\"renderers\":[{\"id\":\"eb2f23a6-4051-4fc6-ac2f-8e587d85d897\",\"type\":\"GlyphRenderer\"}]},\"id\":\"d5d6a1ea-1922-4360-a83c-73ca5ddf5430\",\"type\":\"LegendItem\"},{\"attributes\":{\"data_source\":{\"id\":\"eb7001b7-b573-4c64-8543-b850f42f9081\",\"type\":\"ColumnDataSource\"},\"glyph\":{\"id\":\"683ae65e-4c40-4882-aeae-7ba7cdf0aaeb\",\"type\":\"Rect\"},\"hover_glyph\":null,\"nonselection_glyph\":null,\"selection_glyph\":null},\"id\":\"1dd32f7a-8050-417f-b123-d5832b9ed935\",\"type\":\"GlyphRenderer\"},{\"attributes\":{\"items\":[{\"id\":\"d5d6a1ea-1922-4360-a83c-73ca5ddf5430\",\"type\":\"LegendItem\"},{\"id\":\"efd8d80e-9708-4807-bf67-ac17ba64c83f\",\"type\":\"LegendItem\"},{\"id\":\"69cb93c1-2c7d-4c2e-b512-c9c8768551d1\",\"type\":\"LegendItem\"}],\"location\":\"top_left\",\"plot\":{\"id\":\"6a337397-ebc1-4948-8fe7-089250d5bf1c\",\"subtype\":\"Chart\",\"type\":\"Plot\"}},\"id\":\"3bc9d9ac-6398-45ee-a83c-fb062cb2163f\",\"type\":\"Legend\"},{\"attributes\":{\"plot\":{\"id\":\"9be0667b-e316-4712-9808-b607edefdf73\",\"subtype\":\"Chart\",\"type\":\"Plot\"}},\"id\":\"6cb20fb5-e60d-4ad2-ab0e-5bcfe2026670\",\"type\":\"PanTool\"},{\"attributes\":{},\"id\":\"d558b43b-62dc-4617-b983-fb3a1bcb4fe7\",\"type\":\"BasicTicker\"},{\"attributes\":{\"fill_alpha\":{\"field\":\"fill_alpha\"},\"fill_color\":{\"field\":\"color\"},\"height\":{\"field\":\"height\",\"units\":\"data\"},\"line_color\":{\"field\":\"line_color\"},\"width\":{\"field\":\"width\",\"units\":\"data\"},\"x\":{\"field\":\"x\"},\"y\":{\"field\":\"y\"}},\"id\":\"d2d6b5dd-fdad-44c8-b92d-bcf90d0b3571\",\"type\":\"Rect\"},{\"attributes\":{\"axis_label\":\"Count( Neutered )\",\"formatter\":{\"id\":\"6180be19-ef53-4bdd-acae-36e3d6eafc22\",\"type\":\"BasicTickFormatter\"},\"plot\":{\"id\":\"6a337397-ebc1-4948-8fe7-089250d5bf1c\",\"subtype\":\"Chart\",\"type\":\"Plot\"},\"ticker\":{\"id\":\"d558b43b-62dc-4617-b983-fb3a1bcb4fe7\",\"type\":\"BasicTicker\"}},\"id\":\"481065af-b3c6-4a3a-9afc-845ad4846840\",\"type\":\"LinearAxis\"},{\"attributes\":{\"plot\":{\"id\":\"9be0667b-e316-4712-9808-b607edefdf73\",\"subtype\":\"Chart\",\"type\":\"Plot\"}},\"id\":\"5031214d-e72b-485d-86ff-047e9d27b31e\",\"type\":\"SaveTool\"},{\"attributes\":{\"plot\":null,\"text\":\"Animal Count\"},\"id\":\"c3237202-2958-4992-abad-25f8b8e975de\",\"type\":\"Title\"},{\"attributes\":{\"data_source\":{\"id\":\"5d6ff409-6dd6-4680-b205-8cf85f92ead7\",\"type\":\"ColumnDataSource\"},\"glyph\":{\"id\":\"971fe477-edc7-4712-87f0-dd3e95e56db7\",\"type\":\"Rect\"},\"hover_glyph\":null,\"nonselection_glyph\":null,\"selection_glyph\":null},\"id\":\"654d3504-4fab-4c46-9945-3c6d5ec03cbd\",\"type\":\"GlyphRenderer\"},{\"attributes\":{\"data_source\":{\"id\":\"058c3eec-ced2-4999-a98a-19160b16c0d8\",\"type\":\"ColumnDataSource\"},\"glyph\":{\"id\":\"a5f8f0b7-6d0c-4f5e-83ac-26fe2655aa0f\",\"type\":\"Rect\"},\"hover_glyph\":null,\"nonselection_glyph\":null,\"selection_glyph\":null},\"id\":\"7d71cc2d-3680-4233-8f1b-cc6aec4a5e6d\",\"type\":\"GlyphRenderer\"},{\"attributes\":{\"callback\":null,\"factors\":[\"Adoption\",\"Died\",\"Euthanasia\",\"Return_to_owner\",\"Transfer\"]},\"id\":\"6d2f6da1-e373-4e19-b322-8f8de6801242\",\"type\":\"FactorRange\"},{\"attributes\":{\"callback\":null,\"column_names\":[\"line_color\",\"line_alpha\",\"color\",\"fill_alpha\",\"height\",\"width\",\"y\",\"x\",\"label\"],\"data\":{\"OutcomeType\":[\"Return_to_owner\"],\"chart_index\":[{\"OutcomeType\":\"Return_to_owner\"}],\"color\":[\"#df5320\"],\"fill_alpha\":[0.8],\"height\":[4786.0],\"label\":[{\"OutcomeType\":\"Return_to_owner\"}],\"line_alpha\":[1.0],\"line_color\":[\"white\"],\"width\":[0.8],\"x\":[\"Return_to_owner\"],\"y\":[2393.0]}},\"id\":\"29080d67-4b37-4093-b884-86f34535d849\",\"type\":\"ColumnDataSource\"},{\"attributes\":{\"data_source\":{\"id\":\"cf7d27dd-3a20-4273-83d9-cccc64255c0c\",\"type\":\"ColumnDataSource\"},\"glyph\":{\"id\":\"d2d6b5dd-fdad-44c8-b92d-bcf90d0b3571\",\"type\":\"Rect\"},\"hover_glyph\":null,\"nonselection_glyph\":null,\"selection_glyph\":null},\"id\":\"eb2f23a6-4051-4fc6-ac2f-8e587d85d897\",\"type\":\"GlyphRenderer\"},{\"attributes\":{\"label\":{\"value\":\"intact\"},\"renderers\":[{\"id\":\"1dd32f7a-8050-417f-b123-d5832b9ed935\",\"type\":\"GlyphRenderer\"}]},\"id\":\"efd8d80e-9708-4807-bf67-ac17ba64c83f\",\"type\":\"LegendItem\"},{\"attributes\":{\"fill_alpha\":{\"field\":\"fill_alpha\"},\"fill_color\":{\"field\":\"color\"},\"height\":{\"field\":\"height\",\"units\":\"data\"},\"line_color\":{\"field\":\"line_color\"},\"width\":{\"field\":\"width\",\"units\":\"data\"},\"x\":{\"field\":\"x\"},\"y\":{\"field\":\"y\"}},\"id\":\"5aad7236-99c8-4569-8119-16716bb6082c\",\"type\":\"Rect\"},{\"attributes\":{\"callback\":null,\"column_names\":[\"line_color\",\"line_alpha\",\"color\",\"fill_alpha\",\"height\",\"width\",\"y\",\"x\",\"label\"],\"data\":{\"Neutered\":[\"intact\"],\"chart_index\":[{\"Neutered\":\"intact\"}],\"color\":[\"#f22c40\"],\"fill_alpha\":[0.8],\"height\":[7036.0],\"label\":[{\"Neutered\":\"intact\"}],\"line_alpha\":[1.0],\"line_color\":[\"white\"],\"width\":[0.8],\"x\":[\"intact\"],\"y\":[3518.0]}},\"id\":\"eb7001b7-b573-4c64-8543-b850f42f9081\",\"type\":\"ColumnDataSource\"},{\"attributes\":{\"plot\":{\"id\":\"6a337397-ebc1-4948-8fe7-089250d5bf1c\",\"subtype\":\"Chart\",\"type\":\"Plot\"}},\"id\":\"e30fcb06-88a6-4999-a8f2-8ff8bf49dca5\",\"type\":\"ResetTool\"},{\"attributes\":{\"callback\":null,\"tabs\":[{\"id\":\"f72a9a3f-ad87-4735-9974-c7dff5604d2a\",\"type\":\"Panel\"},{\"id\":\"b075bae8-6d8b-43fc-9639-87192608e771\",\"type\":\"Panel\"},{\"id\":\"5e442325-5983-4a5f-a697-021700ff398e\",\"type\":\"Panel\"},{\"id\":\"9fe94414-0fab-46f1-899a-5a3af4252507\",\"type\":\"Panel\"}]},\"id\":\"f737296e-04b4-445d-95f8-9738f8c66feb\",\"type\":\"Tabs\"},{\"attributes\":{\"overlay\":{\"id\":\"63f7fb5d-eab2-407a-b592-b87c430d39b6\",\"type\":\"BoxAnnotation\"},\"plot\":{\"id\":\"eab594ee-f431-46dc-915d-e72b12a85206\",\"subtype\":\"Chart\",\"type\":\"Plot\"}},\"id\":\"ff3b75bc-f902-424c-b276-d67e422c0af9\",\"type\":\"BoxZoomTool\"},{\"attributes\":{\"plot\":{\"id\":\"502a9160-d043-465d-91b0-20b0a0851b7e\",\"subtype\":\"Chart\",\"type\":\"Plot\"}},\"id\":\"8235b61a-d939-43dd-961f-038645db460a\",\"type\":\"WheelZoomTool\"},{\"attributes\":{\"callback\":null,\"column_names\":[\"line_color\",\"line_alpha\",\"color\",\"fill_alpha\",\"height\",\"width\",\"y\",\"x\",\"label\"],\"data\":{\"Sex\":[\"unknown\"],\"chart_index\":[{\"Sex\":\"unknown\"}],\"color\":[\"#407ee7\"],\"fill_alpha\":[0.8],\"height\":[1094.0],\"label\":[{\"Sex\":\"unknown\"}],\"line_alpha\":[1.0],\"line_color\":[\"white\"],\"width\":[0.8],\"x\":[\"unknown\"],\"y\":[547.0]}},\"id\":\"6fa57663-6735-484f-b788-387c05149c78\",\"type\":\"ColumnDataSource\"},{\"attributes\":{\"label\":{\"value\":\"Return_to_owner\"},\"renderers\":[{\"id\":\"bae57288-c9a4-415f-936b-3d3dace8ebe9\",\"type\":\"GlyphRenderer\"}]},\"id\":\"07b6e372-6500-409e-aa92-ca25073a4e48\",\"type\":\"LegendItem\"},{\"attributes\":{\"fill_alpha\":{\"field\":\"fill_alpha\"},\"fill_color\":{\"field\":\"color\"},\"height\":{\"field\":\"height\",\"units\":\"data\"},\"line_color\":{\"field\":\"line_color\"},\"width\":{\"field\":\"width\",\"units\":\"data\"},\"x\":{\"field\":\"x\"},\"y\":{\"field\":\"y\"}},\"id\":\"e2fdf803-122d-462b-8355-48c916f70ef7\",\"type\":\"Rect\"},{\"attributes\":{\"fill_alpha\":{\"field\":\"fill_alpha\"},\"fill_color\":{\"field\":\"color\"},\"height\":{\"field\":\"height\",\"units\":\"data\"},\"line_color\":{\"field\":\"line_color\"},\"width\":{\"field\":\"width\",\"units\":\"data\"},\"x\":{\"field\":\"x\"},\"y\":{\"field\":\"y\"}},\"id\":\"7dfcf7b0-2bf0-46ec-9482-e950b5c8c351\",\"type\":\"Rect\"},{\"attributes\":{\"bottom_units\":\"screen\",\"fill_alpha\":{\"value\":0.5},\"fill_color\":{\"value\":\"lightgrey\"},\"left_units\":\"screen\",\"level\":\"overlay\",\"line_alpha\":{\"value\":1.0},\"line_color\":{\"value\":\"black\"},\"line_dash\":[4,4],\"line_width\":{\"value\":2},\"plot\":null,\"render_mode\":\"css\",\"right_units\":\"screen\",\"top_units\":\"screen\"},\"id\":\"4df2ca8a-f3eb-4e55-95a5-64659a2f2262\",\"type\":\"BoxAnnotation\"},{\"attributes\":{\"label\":{\"value\":\"Euthanasia\"},\"renderers\":[{\"id\":\"4795d0cf-ce76-4d21-98cf-e2b0ceee1903\",\"type\":\"GlyphRenderer\"}]},\"id\":\"203bc333-7af5-4106-ad4a-05a19c5c0018\",\"type\":\"LegendItem\"},{\"attributes\":{},\"id\":\"6fdbdc7f-25d0-45ae-b6c2-40392d14768d\",\"type\":\"CategoricalTickFormatter\"},{\"attributes\":{},\"id\":\"ff41901d-ce2e-45ac-b5d3-602c70f6ac9a\",\"type\":\"CategoricalTicker\"},{\"attributes\":{\"data_source\":{\"id\":\"02f4f385-7158-4a3b-b22b-bc29f6b4ed66\",\"type\":\"ColumnDataSource\"},\"glyph\":{\"id\":\"359d5a6d-27ba-4db0-a826-bfcfab93773f\",\"type\":\"Rect\"},\"hover_glyph\":null,\"nonselection_glyph\":null,\"selection_glyph\":null},\"id\":\"49f00364-e326-4c54-bf8c-ae86a8c8cdd3\",\"type\":\"GlyphRenderer\"},{\"attributes\":{\"plot\":{\"id\":\"9be0667b-e316-4712-9808-b607edefdf73\",\"subtype\":\"Chart\",\"type\":\"Plot\"}},\"id\":\"01eff2df-69aa-4a5f-aecc-3ca86999e2ac\",\"type\":\"HelpTool\"},{\"attributes\":{\"plot\":{\"id\":\"9be0667b-e316-4712-9808-b607edefdf73\",\"subtype\":\"Chart\",\"type\":\"Plot\"}},\"id\":\"d4fedad4-2e3a-49b9-91f0-c24aa0ce9474\",\"type\":\"WheelZoomTool\"},{\"attributes\":{},\"id\":\"0db9f211-2b40-44b2-9aea-eaea90bcfcd5\",\"type\":\"CategoricalTickFormatter\"},{\"attributes\":{\"callback\":null,\"column_names\":[\"line_color\",\"line_alpha\",\"color\",\"fill_alpha\",\"height\",\"width\",\"y\",\"x\",\"label\"],\"data\":{\"AnimalType\":[\"Cat\"],\"chart_index\":[{\"AnimalType\":\"Cat\"}],\"color\":[\"#f22c40\"],\"fill_alpha\":[0.8],\"height\":[11134.0],\"label\":[{\"AnimalType\":\"Cat\"}],\"line_alpha\":[1.0],\"line_color\":[\"white\"],\"width\":[0.8],\"x\":[\"Cat\"],\"y\":[5567.0]}},\"id\":\"b97dd5d6-ab83-4874-8083-2203e228107b\",\"type\":\"ColumnDataSource\"},{\"attributes\":{\"axis_label\":\"Outcometype\",\"formatter\":{\"id\":\"6fdbdc7f-25d0-45ae-b6c2-40392d14768d\",\"type\":\"CategoricalTickFormatter\"},\"major_label_orientation\":0.7853981633974483,\"plot\":{\"id\":\"9be0667b-e316-4712-9808-b607edefdf73\",\"subtype\":\"Chart\",\"type\":\"Plot\"},\"ticker\":{\"id\":\"ff41901d-ce2e-45ac-b5d3-602c70f6ac9a\",\"type\":\"CategoricalTicker\"}},\"id\":\"19e7cc5d-7902-4a5f-b43a-89ddfeb065e0\",\"type\":\"CategoricalAxis\"},{\"attributes\":{},\"id\":\"4d05aa8e-336e-42cc-8db6-e83f5b96835b\",\"type\":\"CategoricalTickFormatter\"},{\"attributes\":{\"plot\":null,\"text\":\"Neutered Count\"},\"id\":\"6f04d2e8-7288-436e-9616-3ef4615c9ccd\",\"type\":\"Title\"},{\"attributes\":{\"dimension\":1,\"plot\":{\"id\":\"9be0667b-e316-4712-9808-b607edefdf73\",\"subtype\":\"Chart\",\"type\":\"Plot\"},\"ticker\":{\"id\":\"9caed38f-84e6-4daa-b1d8-5c3ba60601e9\",\"type\":\"BasicTicker\"}},\"id\":\"b9410a14-792f-43cd-8f9a-cf206f52b4ea\",\"type\":\"Grid\"},{\"attributes\":{\"data_source\":{\"id\":\"0dcd7d68-be67-438d-a5bf-dbd68aee33ba\",\"type\":\"ColumnDataSource\"},\"glyph\":{\"id\":\"58ff0808-5d0e-48ef-b69f-2b6596756886\",\"type\":\"Rect\"},\"hover_glyph\":null,\"nonselection_glyph\":null,\"selection_glyph\":null},\"id\":\"4795d0cf-ce76-4d21-98cf-e2b0ceee1903\",\"type\":\"GlyphRenderer\"},{\"attributes\":{\"bottom_units\":\"screen\",\"fill_alpha\":{\"value\":0.5},\"fill_color\":{\"value\":\"lightgrey\"},\"left_units\":\"screen\",\"level\":\"overlay\",\"line_alpha\":{\"value\":1.0},\"line_color\":{\"value\":\"black\"},\"line_dash\":[4,4],\"line_width\":{\"value\":2},\"plot\":null,\"render_mode\":\"css\",\"right_units\":\"screen\",\"top_units\":\"screen\"},\"id\":\"63f7fb5d-eab2-407a-b592-b87c430d39b6\",\"type\":\"BoxAnnotation\"},{\"attributes\":{\"active_drag\":\"auto\",\"active_scroll\":\"auto\",\"active_tap\":\"auto\",\"tools\":[{\"id\":\"4dcc78c1-c145-46b3-b531-51f121f75b85\",\"type\":\"PanTool\"},{\"id\":\"7fcad0d2-7a68-44bc-ba14-bc6585022fcb\",\"type\":\"WheelZoomTool\"},{\"id\":\"662cee90-2a77-4e89-9d21-21eae526e8f6\",\"type\":\"BoxZoomTool\"},{\"id\":\"b1e32d26-b924-4c22-a9e2-793ec0c60718\",\"type\":\"SaveTool\"},{\"id\":\"e30fcb06-88a6-4999-a8f2-8ff8bf49dca5\",\"type\":\"ResetTool\"},{\"id\":\"2a041430-1b4e-4154-afb5-7d584922202b\",\"type\":\"HelpTool\"}]},\"id\":\"59b715e4-0cd4-4604-98c3-4716bd1b1c2f\",\"type\":\"Toolbar\"},{\"attributes\":{\"plot\":{\"id\":\"502a9160-d043-465d-91b0-20b0a0851b7e\",\"subtype\":\"Chart\",\"type\":\"Plot\"}},\"id\":\"3e0a1f5f-a039-4818-a35f-30b5619ca184\",\"type\":\"PanTool\"},{\"attributes\":{\"plot\":{\"id\":\"6a337397-ebc1-4948-8fe7-089250d5bf1c\",\"subtype\":\"Chart\",\"type\":\"Plot\"}},\"id\":\"7fcad0d2-7a68-44bc-ba14-bc6585022fcb\",\"type\":\"WheelZoomTool\"},{\"attributes\":{\"plot\":{\"id\":\"502a9160-d043-465d-91b0-20b0a0851b7e\",\"subtype\":\"Chart\",\"type\":\"Plot\"}},\"id\":\"01373f91-3a35-4c6a-aa81-231e3b372b32\",\"type\":\"SaveTool\"},{\"attributes\":{\"below\":[{\"id\":\"b346a34f-eb3c-49d8-b5fb-f7438d3b50ee\",\"type\":\"CategoricalAxis\"}],\"css_classes\":null,\"left\":[{\"id\":\"ecad1c1f-25b8-4276-ae87-1f3902c2a9b6\",\"type\":\"LinearAxis\"}],\"renderers\":[{\"id\":\"63f7fb5d-eab2-407a-b592-b87c430d39b6\",\"type\":\"BoxAnnotation\"},{\"id\":\"49f00364-e326-4c54-bf8c-ae86a8c8cdd3\",\"type\":\"GlyphRenderer\"},{\"id\":\"89ebc458-0fb0-40f6-a94c-00422a4ed676\",\"type\":\"GlyphRenderer\"},{\"id\":\"87319168-9d85-4010-b6c6-a0a4ffaf52af\",\"type\":\"Legend\"},{\"id\":\"b346a34f-eb3c-49d8-b5fb-f7438d3b50ee\",\"type\":\"CategoricalAxis\"},{\"id\":\"ecad1c1f-25b8-4276-ae87-1f3902c2a9b6\",\"type\":\"LinearAxis\"},{\"id\":\"9e87b1cc-0f4b-4ffe-8a81-a773334f3189\",\"type\":\"Grid\"}],\"title\":{\"id\":\"c3237202-2958-4992-abad-25f8b8e975de\",\"type\":\"Title\"},\"tool_events\":{\"id\":\"65453d54-3296-4a66-a7ba-9775873e1e90\",\"type\":\"ToolEvents\"},\"toolbar\":{\"id\":\"68eb44ff-2af6-4949-91e0-b47fe1589efa\",\"type\":\"Toolbar\"},\"x_mapper_type\":\"auto\",\"x_range\":{\"id\":\"c7a13046-37c3-4b68-8bac-24d23c068552\",\"type\":\"FactorRange\"},\"y_mapper_type\":\"auto\",\"y_range\":{\"id\":\"5382bcd6-d9eb-47f9-8cb4-9e30b0c6dcee\",\"type\":\"Range1d\"}},\"id\":\"eab594ee-f431-46dc-915d-e72b12a85206\",\"subtype\":\"Chart\",\"type\":\"Plot\"},{\"attributes\":{\"callback\":null,\"column_names\":[\"line_color\",\"line_alpha\",\"color\",\"fill_alpha\",\"height\",\"width\",\"y\",\"x\",\"label\"],\"data\":{\"Neutered\":[\"unknown\"],\"chart_index\":[{\"Neutered\":\"unknown\"}],\"color\":[\"#407ee7\"],\"fill_alpha\":[0.8],\"height\":[1094.0],\"label\":[{\"Neutered\":\"unknown\"}],\"line_alpha\":[1.0],\"line_color\":[\"white\"],\"width\":[0.8],\"x\":[\"unknown\"],\"y\":[547.0]}},\"id\":\"5d6ff409-6dd6-4680-b205-8cf85f92ead7\",\"type\":\"ColumnDataSource\"},{\"attributes\":{},\"id\":\"31b481c6-f1ac-4661-9d04-cae635085c25\",\"type\":\"CategoricalTicker\"},{\"attributes\":{\"plot\":{\"id\":\"9be0667b-e316-4712-9808-b607edefdf73\",\"subtype\":\"Chart\",\"type\":\"Plot\"}},\"id\":\"e338cd01-d712-43e3-b583-1236dce56470\",\"type\":\"ResetTool\"},{\"attributes\":{\"data_source\":{\"id\":\"fc0484f5-83b8-40cb-a36d-d87ddead089e\",\"type\":\"ColumnDataSource\"},\"glyph\":{\"id\":\"e2fdf803-122d-462b-8355-48c916f70ef7\",\"type\":\"Rect\"},\"hover_glyph\":null,\"nonselection_glyph\":null,\"selection_glyph\":null},\"id\":\"6735bb0e-03a0-480c-ab45-80d591ddc4f6\",\"type\":\"GlyphRenderer\"},{\"attributes\":{\"fill_alpha\":{\"field\":\"fill_alpha\"},\"fill_color\":{\"field\":\"color\"},\"height\":{\"field\":\"height\",\"units\":\"data\"},\"line_color\":{\"field\":\"line_color\"},\"width\":{\"field\":\"width\",\"units\":\"data\"},\"x\":{\"field\":\"x\"},\"y\":{\"field\":\"y\"}},\"id\":\"a5f8f0b7-6d0c-4f5e-83ac-26fe2655aa0f\",\"type\":\"Rect\"},{\"attributes\":{},\"id\":\"4b0fc836-50d5-4e71-9fc3-eb617708eb7e\",\"type\":\"ToolEvents\"},{\"attributes\":{\"items\":[{\"id\":\"07b6e372-6500-409e-aa92-ca25073a4e48\",\"type\":\"LegendItem\"},{\"id\":\"203bc333-7af5-4106-ad4a-05a19c5c0018\",\"type\":\"LegendItem\"},{\"id\":\"f9174b2c-4553-4613-b748-937f4f65f505\",\"type\":\"LegendItem\"},{\"id\":\"293773c6-879b-4689-aa22-bb6dee5c54ca\",\"type\":\"LegendItem\"},{\"id\":\"5eaede21-98ec-48cb-99e3-de50bb889b5a\",\"type\":\"LegendItem\"}],\"location\":\"top_left\",\"plot\":{\"id\":\"9be0667b-e316-4712-9808-b607edefdf73\",\"subtype\":\"Chart\",\"type\":\"Plot\"}},\"id\":\"31ed3aa2-1b84-489b-9eef-61ee226902c8\",\"type\":\"Legend\"},{\"attributes\":{\"axis_label\":\"Count( Sex )\",\"formatter\":{\"id\":\"78d8ccf6-46b1-447e-9f17-12b76668c8c8\",\"type\":\"BasicTickFormatter\"},\"plot\":{\"id\":\"502a9160-d043-465d-91b0-20b0a0851b7e\",\"subtype\":\"Chart\",\"type\":\"Plot\"},\"ticker\":{\"id\":\"30d59dc7-07b5-4fba-8368-3a0cf45cb9e2\",\"type\":\"BasicTicker\"}},\"id\":\"47215870-d4b3-461c-a874-f61193856ec6\",\"type\":\"LinearAxis\"},{\"attributes\":{\"callback\":null,\"factors\":[\"Cat\",\"Dog\"]},\"id\":\"c7a13046-37c3-4b68-8bac-24d23c068552\",\"type\":\"FactorRange\"},{\"attributes\":{\"fill_alpha\":{\"field\":\"fill_alpha\"},\"fill_color\":{\"field\":\"color\"},\"height\":{\"field\":\"height\",\"units\":\"data\"},\"line_color\":{\"field\":\"line_color\"},\"width\":{\"field\":\"width\",\"units\":\"data\"},\"x\":{\"field\":\"x\"},\"y\":{\"field\":\"y\"}},\"id\":\"94f663ed-921d-47ad-bfa1-2f4e94ff9884\",\"type\":\"Rect\"},{\"attributes\":{\"bottom_units\":\"screen\",\"fill_alpha\":{\"value\":0.5},\"fill_color\":{\"value\":\"lightgrey\"},\"left_units\":\"screen\",\"level\":\"overlay\",\"line_alpha\":{\"value\":1.0},\"line_color\":{\"value\":\"black\"},\"line_dash\":[4,4],\"line_width\":{\"value\":2},\"plot\":null,\"render_mode\":\"css\",\"right_units\":\"screen\",\"top_units\":\"screen\"},\"id\":\"cd310b81-4cb2-44fe-a867-cd1f3a6957ad\",\"type\":\"BoxAnnotation\"},{\"attributes\":{\"plot\":null,\"text\":\"Outcome Count\"},\"id\":\"489c8fbb-b150-4fe3-9dcd-28af383d381d\",\"type\":\"Title\"},{\"attributes\":{\"axis_label\":\"Count( Outcometype )\",\"formatter\":{\"id\":\"c630326b-6065-4eae-ab9b-55a192d26697\",\"type\":\"BasicTickFormatter\"},\"plot\":{\"id\":\"9be0667b-e316-4712-9808-b607edefdf73\",\"subtype\":\"Chart\",\"type\":\"Plot\"},\"ticker\":{\"id\":\"9caed38f-84e6-4daa-b1d8-5c3ba60601e9\",\"type\":\"BasicTicker\"}},\"id\":\"a3558d57-b0e8-4147-9f66-05cd4b03a236\",\"type\":\"LinearAxis\"},{\"attributes\":{\"below\":[{\"id\":\"928d5888-feea-4d6b-b092-5f90868facfc\",\"type\":\"CategoricalAxis\"}],\"css_classes\":null,\"left\":[{\"id\":\"481065af-b3c6-4a3a-9afc-845ad4846840\",\"type\":\"LinearAxis\"}],\"renderers\":[{\"id\":\"cd310b81-4cb2-44fe-a867-cd1f3a6957ad\",\"type\":\"BoxAnnotation\"},{\"id\":\"eb2f23a6-4051-4fc6-ac2f-8e587d85d897\",\"type\":\"GlyphRenderer\"},{\"id\":\"1dd32f7a-8050-417f-b123-d5832b9ed935\",\"type\":\"GlyphRenderer\"},{\"id\":\"654d3504-4fab-4c46-9945-3c6d5ec03cbd\",\"type\":\"GlyphRenderer\"},{\"id\":\"3bc9d9ac-6398-45ee-a83c-fb062cb2163f\",\"type\":\"Legend\"},{\"id\":\"928d5888-feea-4d6b-b092-5f90868facfc\",\"type\":\"CategoricalAxis\"},{\"id\":\"481065af-b3c6-4a3a-9afc-845ad4846840\",\"type\":\"LinearAxis\"},{\"id\":\"0bc9260a-ec9a-4d34-8121-b85998429b13\",\"type\":\"Grid\"}],\"title\":{\"id\":\"6f04d2e8-7288-436e-9616-3ef4615c9ccd\",\"type\":\"Title\"},\"tool_events\":{\"id\":\"89bf0719-afb0-4ef2-b508-e4cdec694e65\",\"type\":\"ToolEvents\"},\"toolbar\":{\"id\":\"59b715e4-0cd4-4604-98c3-4716bd1b1c2f\",\"type\":\"Toolbar\"},\"x_mapper_type\":\"auto\",\"x_range\":{\"id\":\"d75f4043-f39c-40ac-b816-271cf5c39a64\",\"type\":\"FactorRange\"},\"y_mapper_type\":\"auto\",\"y_range\":{\"id\":\"8cb3250d-f2ce-45d3-b29f-4db3ce52112a\",\"type\":\"Range1d\"}},\"id\":\"6a337397-ebc1-4948-8fe7-089250d5bf1c\",\"subtype\":\"Chart\",\"type\":\"Plot\"},{\"attributes\":{},\"id\":\"78d8ccf6-46b1-447e-9f17-12b76668c8c8\",\"type\":\"BasicTickFormatter\"},{\"attributes\":{},\"id\":\"c630326b-6065-4eae-ab9b-55a192d26697\",\"type\":\"BasicTickFormatter\"},{\"attributes\":{\"plot\":{\"id\":\"eab594ee-f431-46dc-915d-e72b12a85206\",\"subtype\":\"Chart\",\"type\":\"Plot\"}},\"id\":\"e0e3e695-cc82-4dd3-aa9a-b692ecf28e36\",\"type\":\"SaveTool\"},{\"attributes\":{\"child\":{\"id\":\"502a9160-d043-465d-91b0-20b0a0851b7e\",\"subtype\":\"Chart\",\"type\":\"Plot\"},\"title\":\"Animal Sex\"},\"id\":\"5e442325-5983-4a5f-a697-021700ff398e\",\"type\":\"Panel\"},{\"attributes\":{\"callback\":null,\"end\":13969.2},\"id\":\"d88a4474-1f8b-41a3-8a14-179364988ebe\",\"type\":\"Range1d\"},{\"attributes\":{\"overlay\":{\"id\":\"cd310b81-4cb2-44fe-a867-cd1f3a6957ad\",\"type\":\"BoxAnnotation\"},\"plot\":{\"id\":\"6a337397-ebc1-4948-8fe7-089250d5bf1c\",\"subtype\":\"Chart\",\"type\":\"Plot\"}},\"id\":\"662cee90-2a77-4e89-9d21-21eae526e8f6\",\"type\":\"BoxZoomTool\"},{\"attributes\":{},\"id\":\"65453d54-3296-4a66-a7ba-9775873e1e90\",\"type\":\"ToolEvents\"},{\"attributes\":{\"data_source\":{\"id\":\"6fa57663-6735-484f-b788-387c05149c78\",\"type\":\"ColumnDataSource\"},\"glyph\":{\"id\":\"e9ee3ff3-fd85-4d34-b43c-7bda87468bd1\",\"type\":\"Rect\"},\"hover_glyph\":null,\"nonselection_glyph\":null,\"selection_glyph\":null},\"id\":\"872ddc24-be1f-4a3c-8616-ec19e5cce4bf\",\"type\":\"GlyphRenderer\"},{\"attributes\":{},\"id\":\"a2c09518-093a-46f4-9ed4-786f9c9ba05b\",\"type\":\"BasicTickFormatter\"},{\"attributes\":{\"plot\":{\"id\":\"502a9160-d043-465d-91b0-20b0a0851b7e\",\"subtype\":\"Chart\",\"type\":\"Plot\"}},\"id\":\"8030dc27-6a9f-45d9-8bee-145179c5be4f\",\"type\":\"HelpTool\"},{\"attributes\":{\"dimension\":1,\"plot\":{\"id\":\"502a9160-d043-465d-91b0-20b0a0851b7e\",\"subtype\":\"Chart\",\"type\":\"Plot\"},\"ticker\":{\"id\":\"30d59dc7-07b5-4fba-8368-3a0cf45cb9e2\",\"type\":\"BasicTicker\"}},\"id\":\"f5312679-458a-4f75-a96e-26c3838979e0\",\"type\":\"Grid\"},{\"attributes\":{\"label\":{\"value\":\"Cat\"},\"renderers\":[{\"id\":\"89ebc458-0fb0-40f6-a94c-00422a4ed676\",\"type\":\"GlyphRenderer\"}]},\"id\":\"c8ffc587-280b-4a09-bc43-beb94d1b357f\",\"type\":\"LegendItem\"},{\"attributes\":{\"dimension\":1,\"plot\":{\"id\":\"eab594ee-f431-46dc-915d-e72b12a85206\",\"subtype\":\"Chart\",\"type\":\"Plot\"},\"ticker\":{\"id\":\"2f0dde33-c554-47d0-a3e7-6bb633a0c61f\",\"type\":\"BasicTicker\"}},\"id\":\"9e87b1cc-0f4b-4ffe-8a81-a773334f3189\",\"type\":\"Grid\"},{\"attributes\":{\"axis_label\":\"Sex\",\"formatter\":{\"id\":\"0db9f211-2b40-44b2-9aea-eaea90bcfcd5\",\"type\":\"CategoricalTickFormatter\"},\"major_label_orientation\":0.7853981633974483,\"plot\":{\"id\":\"502a9160-d043-465d-91b0-20b0a0851b7e\",\"subtype\":\"Chart\",\"type\":\"Plot\"},\"ticker\":{\"id\":\"0ed0c22f-7703-493c-b4d9-053f22484bc6\",\"type\":\"CategoricalTicker\"}},\"id\":\"03571e32-c629-40f9-840e-f66a6d19631c\",\"type\":\"CategoricalAxis\"},{\"attributes\":{\"label\":{\"value\":\"Adoption\"},\"renderers\":[{\"id\":\"a1e58ab0-5f08-4a29-a916-cbb220d906a6\",\"type\":\"GlyphRenderer\"}]},\"id\":\"f9174b2c-4553-4613-b748-937f4f65f505\",\"type\":\"LegendItem\"},{\"attributes\":{\"plot\":{\"id\":\"6a337397-ebc1-4948-8fe7-089250d5bf1c\",\"subtype\":\"Chart\",\"type\":\"Plot\"}},\"id\":\"4dcc78c1-c145-46b3-b531-51f121f75b85\",\"type\":\"PanTool\"},{\"attributes\":{\"items\":[{\"id\":\"9e0e9b4d-4325-44b1-98b9-a13ee2f591d7\",\"type\":\"LegendItem\"},{\"id\":\"302c4c4e-48f8-420a-b9f1-d1ad5cdecb75\",\"type\":\"LegendItem\"},{\"id\":\"38dae57b-85b8-468c-a32e-1bb85464b923\",\"type\":\"LegendItem\"}],\"location\":\"top_left\",\"plot\":{\"id\":\"502a9160-d043-465d-91b0-20b0a0851b7e\",\"subtype\":\"Chart\",\"type\":\"Plot\"}},\"id\":\"7a6ebf00-e6de-4564-aa33-a305fd42dbd5\",\"type\":\"Legend\"},{\"attributes\":{\"data_source\":{\"id\":\"29080d67-4b37-4093-b884-86f34535d849\",\"type\":\"ColumnDataSource\"},\"glyph\":{\"id\":\"94f663ed-921d-47ad-bfa1-2f4e94ff9884\",\"type\":\"Rect\"},\"hover_glyph\":null,\"nonselection_glyph\":null,\"selection_glyph\":null},\"id\":\"bae57288-c9a4-415f-936b-3d3dace8ebe9\",\"type\":\"GlyphRenderer\"},{\"attributes\":{\"fill_alpha\":{\"field\":\"fill_alpha\"},\"fill_color\":{\"field\":\"color\"},\"height\":{\"field\":\"height\",\"units\":\"data\"},\"line_color\":{\"field\":\"line_color\"},\"width\":{\"field\":\"width\",\"units\":\"data\"},\"x\":{\"field\":\"x\"},\"y\":{\"field\":\"y\"}},\"id\":\"c5c6cbfc-a9a9-4daa-9652-0ee5c0dc6fd5\",\"type\":\"Rect\"},{\"attributes\":{\"label\":{\"value\":\"female\"},\"renderers\":[{\"id\":\"7d71cc2d-3680-4233-8f1b-cc6aec4a5e6d\",\"type\":\"GlyphRenderer\"}]},\"id\":\"302c4c4e-48f8-420a-b9f1-d1ad5cdecb75\",\"type\":\"LegendItem\"},{\"attributes\":{\"label\":{\"value\":\"male\"},\"renderers\":[{\"id\":\"1177d2d9-9c67-4c5d-8ccd-7b4b54d110bb\",\"type\":\"GlyphRenderer\"}]},\"id\":\"9e0e9b4d-4325-44b1-98b9-a13ee2f591d7\",\"type\":\"LegendItem\"},{\"attributes\":{\"bottom_units\":\"screen\",\"fill_alpha\":{\"value\":0.5},\"fill_color\":{\"value\":\"lightgrey\"},\"left_units\":\"screen\",\"level\":\"overlay\",\"line_alpha\":{\"value\":1.0},\"line_color\":{\"value\":\"black\"},\"line_dash\":[4,4],\"line_width\":{\"value\":2},\"plot\":null,\"render_mode\":\"css\",\"right_units\":\"screen\",\"top_units\":\"screen\"},\"id\":\"0a0fac3e-fd81-44eb-8828-c1d8dca8ac10\",\"type\":\"BoxAnnotation\"},{\"attributes\":{\"below\":[{\"id\":\"03571e32-c629-40f9-840e-f66a6d19631c\",\"type\":\"CategoricalAxis\"}],\"css_classes\":null,\"left\":[{\"id\":\"47215870-d4b3-461c-a874-f61193856ec6\",\"type\":\"LinearAxis\"}],\"renderers\":[{\"id\":\"0a0fac3e-fd81-44eb-8828-c1d8dca8ac10\",\"type\":\"BoxAnnotation\"},{\"id\":\"1177d2d9-9c67-4c5d-8ccd-7b4b54d110bb\",\"type\":\"GlyphRenderer\"},{\"id\":\"7d71cc2d-3680-4233-8f1b-cc6aec4a5e6d\",\"type\":\"GlyphRenderer\"},{\"id\":\"872ddc24-be1f-4a3c-8616-ec19e5cce4bf\",\"type\":\"GlyphRenderer\"},{\"id\":\"7a6ebf00-e6de-4564-aa33-a305fd42dbd5\",\"type\":\"Legend\"},{\"id\":\"03571e32-c629-40f9-840e-f66a6d19631c\",\"type\":\"CategoricalAxis\"},{\"id\":\"47215870-d4b3-461c-a874-f61193856ec6\",\"type\":\"LinearAxis\"},{\"id\":\"f5312679-458a-4f75-a96e-26c3838979e0\",\"type\":\"Grid\"}],\"title\":{\"id\":\"c2e27ecb-e416-449a-92fd-58eed6123b03\",\"type\":\"Title\"},\"tool_events\":{\"id\":\"9ddda4cc-82b7-4764-aecd-0e0d23ce9775\",\"type\":\"ToolEvents\"},\"toolbar\":{\"id\":\"949bd74b-7bb5-4d2a-9bbc-a8a73e422250\",\"type\":\"Toolbar\"},\"x_mapper_type\":\"auto\",\"x_range\":{\"id\":\"b1d5fb02-ca5e-4fcb-b40b-727f82b9afb2\",\"type\":\"FactorRange\"},\"y_mapper_type\":\"auto\",\"y_range\":{\"id\":\"d88a4474-1f8b-41a3-8a14-179364988ebe\",\"type\":\"Range1d\"}},\"id\":\"502a9160-d043-465d-91b0-20b0a0851b7e\",\"subtype\":\"Chart\",\"type\":\"Plot\"},{\"attributes\":{\"active_drag\":\"auto\",\"active_scroll\":\"auto\",\"active_tap\":\"auto\",\"tools\":[{\"id\":\"3e0a1f5f-a039-4818-a35f-30b5619ca184\",\"type\":\"PanTool\"},{\"id\":\"8235b61a-d939-43dd-961f-038645db460a\",\"type\":\"WheelZoomTool\"},{\"id\":\"e6d9a215-cc7e-4fa5-a0ca-e43bf72bfe41\",\"type\":\"BoxZoomTool\"},{\"id\":\"01373f91-3a35-4c6a-aa81-231e3b372b32\",\"type\":\"SaveTool\"},{\"id\":\"b07d0935-6c18-46d5-a07b-fe89e697060b\",\"type\":\"ResetTool\"},{\"id\":\"8030dc27-6a9f-45d9-8bee-145179c5be4f\",\"type\":\"HelpTool\"}]},\"id\":\"949bd74b-7bb5-4d2a-9bbc-a8a73e422250\",\"type\":\"Toolbar\"},{\"attributes\":{\"data_source\":{\"id\":\"0c61381e-5ace-4f4b-8b96-6f4953e362e4\",\"type\":\"ColumnDataSource\"},\"glyph\":{\"id\":\"7dfcf7b0-2bf0-46ec-9482-e950b5c8c351\",\"type\":\"Rect\"},\"hover_glyph\":null,\"nonselection_glyph\":null,\"selection_glyph\":null},\"id\":\"14d207dd-6d0c-402f-aafc-7f6dde920f94\",\"type\":\"GlyphRenderer\"},{\"attributes\":{\"fill_alpha\":{\"field\":\"fill_alpha\"},\"fill_color\":{\"field\":\"color\"},\"height\":{\"field\":\"height\",\"units\":\"data\"},\"line_color\":{\"field\":\"line_color\"},\"width\":{\"field\":\"width\",\"units\":\"data\"},\"x\":{\"field\":\"x\"},\"y\":{\"field\":\"y\"}},\"id\":\"58ff0808-5d0e-48ef-b69f-2b6596756886\",\"type\":\"Rect\"},{\"attributes\":{},\"id\":\"6180be19-ef53-4bdd-acae-36e3d6eafc22\",\"type\":\"BasicTickFormatter\"},{\"attributes\":{\"label\":{\"value\":\"unknown\"},\"renderers\":[{\"id\":\"872ddc24-be1f-4a3c-8616-ec19e5cce4bf\",\"type\":\"GlyphRenderer\"}]},\"id\":\"38dae57b-85b8-468c-a32e-1bb85464b923\",\"type\":\"LegendItem\"},{\"attributes\":{\"callback\":null,\"column_names\":[\"line_color\",\"line_alpha\",\"color\",\"fill_alpha\",\"height\",\"width\",\"y\",\"x\",\"label\"],\"data\":{\"Sex\":[\"male\"],\"chart_index\":[{\"Sex\":\"male\"}],\"color\":[\"#5ab738\"],\"fill_alpha\":[0.8],\"height\":[13304.0],\"label\":[{\"Sex\":\"male\"}],\"line_alpha\":[1.0],\"line_color\":[\"white\"],\"width\":[0.8],\"x\":[\"male\"],\"y\":[6652.0]}},\"id\":\"e2bcf60f-0eb7-43c3-b2ce-1ebf1051c68f\",\"type\":\"ColumnDataSource\"},{\"attributes\":{\"plot\":{\"id\":\"6a337397-ebc1-4948-8fe7-089250d5bf1c\",\"subtype\":\"Chart\",\"type\":\"Plot\"}},\"id\":\"2a041430-1b4e-4154-afb5-7d584922202b\",\"type\":\"HelpTool\"},{\"attributes\":{\"callback\":null,\"column_names\":[\"line_color\",\"line_alpha\",\"color\",\"fill_alpha\",\"height\",\"width\",\"y\",\"x\",\"label\"],\"data\":{\"OutcomeType\":[\"Adoption\"],\"chart_index\":[{\"OutcomeType\":\"Adoption\"}],\"color\":[\"#f22c40\"],\"fill_alpha\":[0.8],\"height\":[10769.0],\"label\":[{\"OutcomeType\":\"Adoption\"}],\"line_alpha\":[1.0],\"line_color\":[\"white\"],\"width\":[0.8],\"x\":[\"Adoption\"],\"y\":[5384.5]}},\"id\":\"c6183031-0d79-454f-a56e-d3abcc8614fd\",\"type\":\"ColumnDataSource\"},{\"attributes\":{\"data_source\":{\"id\":\"c6183031-0d79-454f-a56e-d3abcc8614fd\",\"type\":\"ColumnDataSource\"},\"glyph\":{\"id\":\"c5c6cbfc-a9a9-4daa-9652-0ee5c0dc6fd5\",\"type\":\"Rect\"},\"hover_glyph\":null,\"nonselection_glyph\":null,\"selection_glyph\":null},\"id\":\"a1e58ab0-5f08-4a29-a916-cbb220d906a6\",\"type\":\"GlyphRenderer\"},{\"attributes\":{\"fill_alpha\":{\"field\":\"fill_alpha\"},\"fill_color\":{\"field\":\"color\"},\"height\":{\"field\":\"height\",\"units\":\"data\"},\"line_color\":{\"field\":\"line_color\"},\"width\":{\"field\":\"width\",\"units\":\"data\"},\"x\":{\"field\":\"x\"},\"y\":{\"field\":\"y\"}},\"id\":\"971fe477-edc7-4712-87f0-dd3e95e56db7\",\"type\":\"Rect\"},{\"attributes\":{\"data_source\":{\"id\":\"b97dd5d6-ab83-4874-8083-2203e228107b\",\"type\":\"ColumnDataSource\"},\"glyph\":{\"id\":\"5aad7236-99c8-4569-8119-16716bb6082c\",\"type\":\"Rect\"},\"hover_glyph\":null,\"nonselection_glyph\":null,\"selection_glyph\":null},\"id\":\"89ebc458-0fb0-40f6-a94c-00422a4ed676\",\"type\":\"GlyphRenderer\"},{\"attributes\":{\"axis_label\":\"Count( Animaltype )\",\"formatter\":{\"id\":\"a2c09518-093a-46f4-9ed4-786f9c9ba05b\",\"type\":\"BasicTickFormatter\"},\"plot\":{\"id\":\"eab594ee-f431-46dc-915d-e72b12a85206\",\"subtype\":\"Chart\",\"type\":\"Plot\"},\"ticker\":{\"id\":\"2f0dde33-c554-47d0-a3e7-6bb633a0c61f\",\"type\":\"BasicTicker\"}},\"id\":\"ecad1c1f-25b8-4276-ae87-1f3902c2a9b6\",\"type\":\"LinearAxis\"},{\"attributes\":{\"axis_label\":\"Animaltype\",\"formatter\":{\"id\":\"4d05aa8e-336e-42cc-8db6-e83f5b96835b\",\"type\":\"CategoricalTickFormatter\"},\"major_label_orientation\":0.7853981633974483,\"plot\":{\"id\":\"eab594ee-f431-46dc-915d-e72b12a85206\",\"subtype\":\"Chart\",\"type\":\"Plot\"},\"ticker\":{\"id\":\"30d96e33-3451-41a1-a34e-11eeb63726d1\",\"type\":\"CategoricalTicker\"}},\"id\":\"b346a34f-eb3c-49d8-b5fb-f7438d3b50ee\",\"type\":\"CategoricalAxis\"},{\"attributes\":{\"callback\":null,\"column_names\":[\"line_color\",\"line_alpha\",\"color\",\"fill_alpha\",\"height\",\"width\",\"y\",\"x\",\"label\"],\"data\":{\"OutcomeType\":[\"Transfer\"],\"chart_index\":[{\"OutcomeType\":\"Transfer\"}],\"color\":[\"#00ad9c\"],\"fill_alpha\":[0.8],\"height\":[9422.0],\"label\":[{\"OutcomeType\":\"Transfer\"}],\"line_alpha\":[1.0],\"line_color\":[\"white\"],\"width\":[0.8],\"x\":[\"Transfer\"],\"y\":[4711.0]}},\"id\":\"0c61381e-5ace-4f4b-8b96-6f4953e362e4\",\"type\":\"ColumnDataSource\"},{\"attributes\":{\"callback\":null,\"column_names\":[\"line_color\",\"line_alpha\",\"color\",\"fill_alpha\",\"height\",\"width\",\"y\",\"x\",\"label\"],\"data\":{\"Sex\":[\"female\"],\"chart_index\":[{\"Sex\":\"female\"}],\"color\":[\"#f22c40\"],\"fill_alpha\":[0.8],\"height\":[12331.0],\"label\":[{\"Sex\":\"female\"}],\"line_alpha\":[1.0],\"line_color\":[\"white\"],\"width\":[0.8],\"x\":[\"female\"],\"y\":[6165.5]}},\"id\":\"058c3eec-ced2-4999-a98a-19160b16c0d8\",\"type\":\"ColumnDataSource\"},{\"attributes\":{\"active_drag\":\"auto\",\"active_scroll\":\"auto\",\"active_tap\":\"auto\",\"tools\":[{\"id\":\"e5fcd68c-7034-436c-8930-245ec382b70a\",\"type\":\"PanTool\"},{\"id\":\"f7469d2c-baeb-4b16-a486-be355274653a\",\"type\":\"WheelZoomTool\"},{\"id\":\"ff3b75bc-f902-424c-b276-d67e422c0af9\",\"type\":\"BoxZoomTool\"},{\"id\":\"e0e3e695-cc82-4dd3-aa9a-b692ecf28e36\",\"type\":\"SaveTool\"},{\"id\":\"bbfb2bfe-ca11-4bc1-8232-f64e186523fa\",\"type\":\"ResetTool\"},{\"id\":\"487b8364-b7a5-4507-be0a-a1b27910a95e\",\"type\":\"HelpTool\"}]},\"id\":\"68eb44ff-2af6-4949-91e0-b47fe1589efa\",\"type\":\"Toolbar\"},{\"attributes\":{\"active_drag\":\"auto\",\"active_scroll\":\"auto\",\"active_tap\":\"auto\",\"tools\":[{\"id\":\"6cb20fb5-e60d-4ad2-ab0e-5bcfe2026670\",\"type\":\"PanTool\"},{\"id\":\"d4fedad4-2e3a-49b9-91f0-c24aa0ce9474\",\"type\":\"WheelZoomTool\"},{\"id\":\"b0a2352f-287c-4563-8b62-8b3140d73f59\",\"type\":\"BoxZoomTool\"},{\"id\":\"5031214d-e72b-485d-86ff-047e9d27b31e\",\"type\":\"SaveTool\"},{\"id\":\"e338cd01-d712-43e3-b583-1236dce56470\",\"type\":\"ResetTool\"},{\"id\":\"01eff2df-69aa-4a5f-aecc-3ca86999e2ac\",\"type\":\"HelpTool\"}]},\"id\":\"141abc4a-467a-4709-ae1f-c67980634081\",\"type\":\"Toolbar\"},{\"attributes\":{\"fill_alpha\":{\"field\":\"fill_alpha\"},\"fill_color\":{\"field\":\"color\"},\"height\":{\"field\":\"height\",\"units\":\"data\"},\"line_color\":{\"field\":\"line_color\"},\"width\":{\"field\":\"width\",\"units\":\"data\"},\"x\":{\"field\":\"x\"},\"y\":{\"field\":\"y\"}},\"id\":\"683ae65e-4c40-4882-aeae-7ba7cdf0aaeb\",\"type\":\"Rect\"},{\"attributes\":{\"axis_label\":\"Neutered\",\"formatter\":{\"id\":\"eb5d3f26-621c-4b87-a856-90b8b10ed29b\",\"type\":\"CategoricalTickFormatter\"},\"major_label_orientation\":0.7853981633974483,\"plot\":{\"id\":\"6a337397-ebc1-4948-8fe7-089250d5bf1c\",\"subtype\":\"Chart\",\"type\":\"Plot\"},\"ticker\":{\"id\":\"31b481c6-f1ac-4661-9d04-cae635085c25\",\"type\":\"CategoricalTicker\"}},\"id\":\"928d5888-feea-4d6b-b092-5f90868facfc\",\"type\":\"CategoricalAxis\"},{\"attributes\":{\"overlay\":{\"id\":\"4df2ca8a-f3eb-4e55-95a5-64659a2f2262\",\"type\":\"BoxAnnotation\"},\"plot\":{\"id\":\"9be0667b-e316-4712-9808-b607edefdf73\",\"subtype\":\"Chart\",\"type\":\"Plot\"}},\"id\":\"b0a2352f-287c-4563-8b62-8b3140d73f59\",\"type\":\"BoxZoomTool\"},{\"attributes\":{\"callback\":null,\"column_names\":[\"line_color\",\"line_alpha\",\"color\",\"fill_alpha\",\"height\",\"width\",\"y\",\"x\",\"label\"],\"data\":{\"OutcomeType\":[\"Euthanasia\"],\"chart_index\":[{\"OutcomeType\":\"Euthanasia\"}],\"color\":[\"#407ee7\"],\"fill_alpha\":[0.8],\"height\":[1555.0],\"label\":[{\"OutcomeType\":\"Euthanasia\"}],\"line_alpha\":[1.0],\"line_color\":[\"white\"],\"width\":[0.8],\"x\":[\"Euthanasia\"],\"y\":[777.5]}},\"id\":\"0dcd7d68-be67-438d-a5bf-dbd68aee33ba\",\"type\":\"ColumnDataSource\"},{\"attributes\":{},\"id\":\"30d59dc7-07b5-4fba-8368-3a0cf45cb9e2\",\"type\":\"BasicTicker\"},{\"attributes\":{\"plot\":{\"id\":\"eab594ee-f431-46dc-915d-e72b12a85206\",\"subtype\":\"Chart\",\"type\":\"Plot\"}},\"id\":\"487b8364-b7a5-4507-be0a-a1b27910a95e\",\"type\":\"HelpTool\"},{\"attributes\":{\"plot\":{\"id\":\"eab594ee-f431-46dc-915d-e72b12a85206\",\"subtype\":\"Chart\",\"type\":\"Plot\"}},\"id\":\"f7469d2c-baeb-4b16-a486-be355274653a\",\"type\":\"WheelZoomTool\"},{\"attributes\":{\"data_source\":{\"id\":\"e2bcf60f-0eb7-43c3-b2ce-1ebf1051c68f\",\"type\":\"ColumnDataSource\"},\"glyph\":{\"id\":\"449590a1-7a3d-4329-96ea-f988b86c4d52\",\"type\":\"Rect\"},\"hover_glyph\":null,\"nonselection_glyph\":null,\"selection_glyph\":null},\"id\":\"1177d2d9-9c67-4c5d-8ccd-7b4b54d110bb\",\"type\":\"GlyphRenderer\"},{\"attributes\":{\"callback\":null,\"factors\":[\"intact\",\"neutered\",\"unknown\"]},\"id\":\"d75f4043-f39c-40ac-b816-271cf5c39a64\",\"type\":\"FactorRange\"},{\"attributes\":{\"items\":[{\"id\":\"3ae2ad47-8efe-42e9-81ca-ed3acbe2430c\",\"type\":\"LegendItem\"},{\"id\":\"c8ffc587-280b-4a09-bc43-beb94d1b357f\",\"type\":\"LegendItem\"}],\"location\":\"top_left\",\"plot\":{\"id\":\"eab594ee-f431-46dc-915d-e72b12a85206\",\"subtype\":\"Chart\",\"type\":\"Plot\"}},\"id\":\"87319168-9d85-4010-b6c6-a0a4ffaf52af\",\"type\":\"Legend\"},{\"attributes\":{\"plot\":{\"id\":\"eab594ee-f431-46dc-915d-e72b12a85206\",\"subtype\":\"Chart\",\"type\":\"Plot\"}},\"id\":\"bbfb2bfe-ca11-4bc1-8232-f64e186523fa\",\"type\":\"ResetTool\"},{\"attributes\":{},\"id\":\"eb5d3f26-621c-4b87-a856-90b8b10ed29b\",\"type\":\"CategoricalTickFormatter\"},{\"attributes\":{\"callback\":null,\"end\":11307.45},\"id\":\"f6a799ee-fa64-4def-bf5f-6e2bcdb535fe\",\"type\":\"Range1d\"},{\"attributes\":{},\"id\":\"0ed0c22f-7703-493c-b4d9-053f22484bc6\",\"type\":\"CategoricalTicker\"},{\"attributes\":{\"callback\":null,\"end\":16374.75},\"id\":\"5382bcd6-d9eb-47f9-8cb4-9e30b0c6dcee\",\"type\":\"Range1d\"},{\"attributes\":{},\"id\":\"2f0dde33-c554-47d0-a3e7-6bb633a0c61f\",\"type\":\"BasicTicker\"},{\"attributes\":{\"fill_alpha\":{\"field\":\"fill_alpha\"},\"fill_color\":{\"field\":\"color\"},\"height\":{\"field\":\"height\",\"units\":\"data\"},\"line_color\":{\"field\":\"line_color\"},\"width\":{\"field\":\"width\",\"units\":\"data\"},\"x\":{\"field\":\"x\"},\"y\":{\"field\":\"y\"}},\"id\":\"449590a1-7a3d-4329-96ea-f988b86c4d52\",\"type\":\"Rect\"},{\"attributes\":{\"fill_alpha\":{\"field\":\"fill_alpha\"},\"fill_color\":{\"field\":\"color\"},\"height\":{\"field\":\"height\",\"units\":\"data\"},\"line_color\":{\"field\":\"line_color\"},\"width\":{\"field\":\"width\",\"units\":\"data\"},\"x\":{\"field\":\"x\"},\"y\":{\"field\":\"y\"}},\"id\":\"e9ee3ff3-fd85-4d34-b43c-7bda87468bd1\",\"type\":\"Rect\"},{\"attributes\":{\"below\":[{\"id\":\"19e7cc5d-7902-4a5f-b43a-89ddfeb065e0\",\"type\":\"CategoricalAxis\"}],\"css_classes\":null,\"left\":[{\"id\":\"a3558d57-b0e8-4147-9f66-05cd4b03a236\",\"type\":\"LinearAxis\"}],\"renderers\":[{\"id\":\"4df2ca8a-f3eb-4e55-95a5-64659a2f2262\",\"type\":\"BoxAnnotation\"},{\"id\":\"bae57288-c9a4-415f-936b-3d3dace8ebe9\",\"type\":\"GlyphRenderer\"},{\"id\":\"4795d0cf-ce76-4d21-98cf-e2b0ceee1903\",\"type\":\"GlyphRenderer\"},{\"id\":\"a1e58ab0-5f08-4a29-a916-cbb220d906a6\",\"type\":\"GlyphRenderer\"},{\"id\":\"14d207dd-6d0c-402f-aafc-7f6dde920f94\",\"type\":\"GlyphRenderer\"},{\"id\":\"6735bb0e-03a0-480c-ab45-80d591ddc4f6\",\"type\":\"GlyphRenderer\"},{\"id\":\"31ed3aa2-1b84-489b-9eef-61ee226902c8\",\"type\":\"Legend\"},{\"id\":\"19e7cc5d-7902-4a5f-b43a-89ddfeb065e0\",\"type\":\"CategoricalAxis\"},{\"id\":\"a3558d57-b0e8-4147-9f66-05cd4b03a236\",\"type\":\"LinearAxis\"},{\"id\":\"b9410a14-792f-43cd-8f9a-cf206f52b4ea\",\"type\":\"Grid\"}],\"title\":{\"id\":\"489c8fbb-b150-4fe3-9dcd-28af383d381d\",\"type\":\"Title\"},\"tool_events\":{\"id\":\"4b0fc836-50d5-4e71-9fc3-eb617708eb7e\",\"type\":\"ToolEvents\"},\"toolbar\":{\"id\":\"141abc4a-467a-4709-ae1f-c67980634081\",\"type\":\"Toolbar\"},\"x_mapper_type\":\"auto\",\"x_range\":{\"id\":\"6d2f6da1-e373-4e19-b322-8f8de6801242\",\"type\":\"FactorRange\"},\"y_mapper_type\":\"auto\",\"y_range\":{\"id\":\"f6a799ee-fa64-4def-bf5f-6e2bcdb535fe\",\"type\":\"Range1d\"}},\"id\":\"9be0667b-e316-4712-9808-b607edefdf73\",\"subtype\":\"Chart\",\"type\":\"Plot\"},{\"attributes\":{},\"id\":\"89bf0719-afb0-4ef2-b508-e4cdec694e65\",\"type\":\"ToolEvents\"},{\"attributes\":{\"plot\":{\"id\":\"6a337397-ebc1-4948-8fe7-089250d5bf1c\",\"subtype\":\"Chart\",\"type\":\"Plot\"}},\"id\":\"b1e32d26-b924-4c22-a9e2-793ec0c60718\",\"type\":\"SaveTool\"},{\"attributes\":{\"label\":{\"value\":\"Dog\"},\"renderers\":[{\"id\":\"49f00364-e326-4c54-bf8c-ae86a8c8cdd3\",\"type\":\"GlyphRenderer\"}]},\"id\":\"3ae2ad47-8efe-42e9-81ca-ed3acbe2430c\",\"type\":\"LegendItem\"},{\"attributes\":{},\"id\":\"9ddda4cc-82b7-4764-aecd-0e0d23ce9775\",\"type\":\"ToolEvents\"},{\"attributes\":{\"label\":{\"value\":\"unknown\"},\"renderers\":[{\"id\":\"654d3504-4fab-4c46-9945-3c6d5ec03cbd\",\"type\":\"GlyphRenderer\"}]},\"id\":\"69cb93c1-2c7d-4c2e-b512-c9c8768551d1\",\"type\":\"LegendItem\"},{\"attributes\":{\"callback\":null,\"factors\":[\"female\",\"male\",\"unknown\"]},\"id\":\"b1d5fb02-ca5e-4fcb-b40b-727f82b9afb2\",\"type\":\"FactorRange\"},{\"attributes\":{\"callback\":null,\"end\":19528.95},\"id\":\"8cb3250d-f2ce-45d3-b29f-4db3ce52112a\",\"type\":\"Range1d\"},{\"attributes\":{\"child\":{\"id\":\"6a337397-ebc1-4948-8fe7-089250d5bf1c\",\"subtype\":\"Chart\",\"type\":\"Plot\"},\"title\":\"Neutered\"},\"id\":\"9fe94414-0fab-46f1-899a-5a3af4252507\",\"type\":\"Panel\"},{\"attributes\":{},\"id\":\"30d96e33-3451-41a1-a34e-11eeb63726d1\",\"type\":\"CategoricalTicker\"},{\"attributes\":{\"callback\":null,\"column_names\":[\"line_color\",\"line_alpha\",\"color\",\"fill_alpha\",\"height\",\"width\",\"y\",\"x\",\"label\"],\"data\":{\"AnimalType\":[\"Dog\"],\"chart_index\":[{\"AnimalType\":\"Dog\"}],\"color\":[\"#5ab738\"],\"fill_alpha\":[0.8],\"height\":[15595.0],\"label\":[{\"AnimalType\":\"Dog\"}],\"line_alpha\":[1.0],\"line_color\":[\"white\"],\"width\":[0.8],\"x\":[\"Dog\"],\"y\":[7797.5]}},\"id\":\"02f4f385-7158-4a3b-b22b-bc29f6b4ed66\",\"type\":\"ColumnDataSource\"}],\"root_ids\":[\"f737296e-04b4-445d-95f8-9738f8c66feb\"]},\"title\":\"Bokeh Application\",\"version\":\"0.12.4\"}};\n",
       "            var render_items = [{\"docid\":\"1804a2e2-5da5-4403-a2a5-adfb78e846cb\",\"elementid\":\"9e5aeaa1-bfdb-490d-a318-8adb632b6e76\",\"modelid\":\"f737296e-04b4-445d-95f8-9738f8c66feb\"}];\n",
       "            \n",
       "            Bokeh.embed.embed_items(docs_json, render_items);\n",
       "          };\n",
       "          if (document.readyState != \"loading\") fn();\n",
       "          else document.addEventListener(\"DOMContentLoaded\", fn);\n",
       "        })();\n",
       "      },\n",
       "      function(Bokeh) {\n",
       "      }\n",
       "    ];\n",
       "  \n",
       "    function run_inline_js() {\n",
       "      \n",
       "      if ((window.Bokeh !== undefined) || (force === true)) {\n",
       "        for (var i = 0; i < inline_js.length; i++) {\n",
       "          inline_js[i](window.Bokeh);\n",
       "        }if (force === true) {\n",
       "          display_loaded();\n",
       "        }} else if (Date.now() < window._bokeh_timeout) {\n",
       "        setTimeout(run_inline_js, 100);\n",
       "      } else if (!window._bokeh_failed_load) {\n",
       "        console.log(\"Bokeh: BokehJS failed to load within specified timeout.\");\n",
       "        window._bokeh_failed_load = true;\n",
       "      } else if (force !== true) {\n",
       "        var cell = $(document.getElementById(\"9e5aeaa1-bfdb-490d-a318-8adb632b6e76\")).parents('.cell').data().cell;\n",
       "        cell.output_area.append_execute_result(NB_LOAD_WARNING)\n",
       "      }\n",
       "  \n",
       "    }\n",
       "  \n",
       "    if (window._bokeh_is_loading === 0) {\n",
       "      console.log(\"Bokeh: BokehJS loaded, going straight to plotting\");\n",
       "      run_inline_js();\n",
       "    } else {\n",
       "      load_libs(js_urls, function() {\n",
       "        console.log(\"Bokeh: BokehJS plotting callback run at\", now());\n",
       "        run_inline_js();\n",
       "      });\n",
       "    }\n",
       "  }(this));\n",
       "</script>"
      ]
     },
     "metadata": {},
     "output_type": "display_data"
    }
   ],
   "source": [
    "p1 = Bar(animals, label='AnimalType', values='AnimalType', agg='count',\n",
    "        title=\"Animal Count\",color = 'AnimalType')\n",
    "p2 = Bar(animals, label='OutcomeType', values='OutcomeType', agg='count',\n",
    "        title=\"Outcome Count\",color = 'OutcomeType')\n",
    "p3 = Bar(Data, label='Sex', values='Sex', agg='count',\n",
    "        title=\"Sex Count\",color = 'Sex')\n",
    "p4 = Bar(Data, label='Neutered', values='Neutered', agg='count',\n",
    "        title=\"Neutered Count\",color = 'Neutered')\n",
    "\n",
    "tab1 = Panel(child=p1, title='Animals')\n",
    "tab2 = Panel(child=p2, title='Outcome Type')\n",
    "tab3 = Panel(child=p3, title='Animal Sex')\n",
    "tab4 = Panel(child=p4, title='Neutered')\n",
    "layout = Tabs(tabs=[tab1, tab2, tab3, tab4])\n",
    "show(layout)"
   ]
  },
  {
   "cell_type": "code",
   "execution_count": 511,
   "metadata": {
    "collapsed": false
   },
   "outputs": [
    {
     "data": {
      "text/html": [
       "\n",
       "\n",
       "    <div class=\"bk-root\">\n",
       "        <div class=\"bk-plotdiv\" id=\"18969079-90c9-4177-acd9-c2184e6c4e64\"></div>\n",
       "    </div>\n",
       "<script type=\"text/javascript\">\n",
       "  \n",
       "  (function(global) {\n",
       "    function now() {\n",
       "      return new Date();\n",
       "    }\n",
       "  \n",
       "    var force = false;\n",
       "  \n",
       "    if (typeof (window._bokeh_onload_callbacks) === \"undefined\" || force === true) {\n",
       "      window._bokeh_onload_callbacks = [];\n",
       "      window._bokeh_is_loading = undefined;\n",
       "    }\n",
       "  \n",
       "  \n",
       "    \n",
       "    if (typeof (window._bokeh_timeout) === \"undefined\" || force === true) {\n",
       "      window._bokeh_timeout = Date.now() + 0;\n",
       "      window._bokeh_failed_load = false;\n",
       "    }\n",
       "  \n",
       "    var NB_LOAD_WARNING = {'data': {'text/html':\n",
       "       \"<div style='background-color: #fdd'>\\n\"+\n",
       "       \"<p>\\n\"+\n",
       "       \"BokehJS does not appear to have successfully loaded. If loading BokehJS from CDN, this \\n\"+\n",
       "       \"may be due to a slow or bad network connection. Possible fixes:\\n\"+\n",
       "       \"</p>\\n\"+\n",
       "       \"<ul>\\n\"+\n",
       "       \"<li>re-rerun `output_notebook()` to attempt to load from CDN again, or</li>\\n\"+\n",
       "       \"<li>use INLINE resources instead, as so:</li>\\n\"+\n",
       "       \"</ul>\\n\"+\n",
       "       \"<code>\\n\"+\n",
       "       \"from bokeh.resources import INLINE\\n\"+\n",
       "       \"output_notebook(resources=INLINE)\\n\"+\n",
       "       \"</code>\\n\"+\n",
       "       \"</div>\"}};\n",
       "  \n",
       "    function display_loaded() {\n",
       "      if (window.Bokeh !== undefined) {\n",
       "        document.getElementById(\"18969079-90c9-4177-acd9-c2184e6c4e64\").textContent = \"BokehJS successfully loaded.\";\n",
       "      } else if (Date.now() < window._bokeh_timeout) {\n",
       "        setTimeout(display_loaded, 100)\n",
       "      }\n",
       "    }\n",
       "  \n",
       "    function run_callbacks() {\n",
       "      window._bokeh_onload_callbacks.forEach(function(callback) { callback() });\n",
       "      delete window._bokeh_onload_callbacks\n",
       "      console.info(\"Bokeh: all callbacks have finished\");\n",
       "    }\n",
       "  \n",
       "    function load_libs(js_urls, callback) {\n",
       "      window._bokeh_onload_callbacks.push(callback);\n",
       "      if (window._bokeh_is_loading > 0) {\n",
       "        console.log(\"Bokeh: BokehJS is being loaded, scheduling callback at\", now());\n",
       "        return null;\n",
       "      }\n",
       "      if (js_urls == null || js_urls.length === 0) {\n",
       "        run_callbacks();\n",
       "        return null;\n",
       "      }\n",
       "      console.log(\"Bokeh: BokehJS not loaded, scheduling load and callback at\", now());\n",
       "      window._bokeh_is_loading = js_urls.length;\n",
       "      for (var i = 0; i < js_urls.length; i++) {\n",
       "        var url = js_urls[i];\n",
       "        var s = document.createElement('script');\n",
       "        s.src = url;\n",
       "        s.async = false;\n",
       "        s.onreadystatechange = s.onload = function() {\n",
       "          window._bokeh_is_loading--;\n",
       "          if (window._bokeh_is_loading === 0) {\n",
       "            console.log(\"Bokeh: all BokehJS libraries loaded\");\n",
       "            run_callbacks()\n",
       "          }\n",
       "        };\n",
       "        s.onerror = function() {\n",
       "          console.warn(\"failed to load library \" + url);\n",
       "        };\n",
       "        console.log(\"Bokeh: injecting script tag for BokehJS library: \", url);\n",
       "        document.getElementsByTagName(\"head\")[0].appendChild(s);\n",
       "      }\n",
       "    };var element = document.getElementById(\"18969079-90c9-4177-acd9-c2184e6c4e64\");\n",
       "    if (element == null) {\n",
       "      console.log(\"Bokeh: ERROR: autoload.js configured with elementid '18969079-90c9-4177-acd9-c2184e6c4e64' but no matching script tag was found. \")\n",
       "      return false;\n",
       "    }\n",
       "  \n",
       "    var js_urls = [];\n",
       "  \n",
       "    var inline_js = [\n",
       "      function(Bokeh) {\n",
       "        (function() {\n",
       "          var fn = function() {\n",
       "            var docs_json = {\"c255bb1e-5d96-41e0-83bd-02123b6d6f92\":{\"roots\":{\"references\":[{\"attributes\":{\"callback\":null,\"column_names\":[\"line_color\",\"line_alpha\",\"color\",\"fill_alpha\",\"height\",\"width\",\"y\",\"x\",\"label\"],\"data\":{\"chart_index\":[\"(2.000000, 3.000000]\"],\"color\":[\"#f22c40\"],\"fill_alpha\":[0.8],\"height\":[3742.0],\"label\":[\"(2.000000, 3.000000]\"],\"line_alpha\":[1.0],\"line_color\":[\"black\"],\"width\":[1.0],\"x\":[\"2.5\"],\"y\":[1871.0]}},\"id\":\"73115d43-fc14-4ac3-88b5-9d0f65d89cc0\",\"type\":\"ColumnDataSource\"},{\"attributes\":{\"data_source\":{\"id\":\"1583d35c-6bf6-4f8b-9727-4f4256e3e007\",\"type\":\"ColumnDataSource\"},\"glyph\":{\"id\":\"1abb6344-4c27-42bb-8e01-2977e0c5a64d\",\"type\":\"Rect\"},\"hover_glyph\":null,\"nonselection_glyph\":null,\"selection_glyph\":null},\"id\":\"5a3f6c21-0ee7-49a7-bac2-185f7536d95f\",\"type\":\"GlyphRenderer\"},{\"attributes\":{\"callback\":null,\"column_names\":[\"line_color\",\"line_alpha\",\"color\",\"fill_alpha\",\"height\",\"width\",\"y\",\"x\",\"label\"],\"data\":{\"chart_index\":[\"(17.000000, 18.000000]\"],\"color\":[\"#f22c40\"],\"fill_alpha\":[0.8],\"height\":[17.0],\"label\":[\"(17.000000, 18.000000]\"],\"line_alpha\":[1.0],\"line_color\":[\"black\"],\"width\":[1.0],\"x\":[\"17.5\"],\"y\":[8.5]}},\"id\":\"fd282fcf-e699-4afe-9e4d-9dd29e088b20\",\"type\":\"ColumnDataSource\"},{\"attributes\":{\"callback\":null,\"column_names\":[\"line_color\",\"line_alpha\",\"color\",\"fill_alpha\",\"height\",\"width\",\"y\",\"x\",\"label\"],\"data\":{\"chart_index\":[\"[0.000000, 1.000000]\"],\"color\":[\"#f22c40\"],\"fill_alpha\":[0.8],\"height\":[11908.0],\"label\":[\"[0.000000, 1.000000]\"],\"line_alpha\":[1.0],\"line_color\":[\"black\"],\"width\":[1.0],\"x\":[\"0.5\"],\"y\":[5954.0]}},\"id\":\"a81a1254-5d6d-4417-933e-288775ec7015\",\"type\":\"ColumnDataSource\"},{\"attributes\":{\"data_source\":{\"id\":\"36ec3ad5-661b-4716-97a9-912083195fbc\",\"type\":\"ColumnDataSource\"},\"glyph\":{\"id\":\"9f2c8064-bdb1-4317-8e9a-07a7520097e6\",\"type\":\"Rect\"},\"hover_glyph\":null,\"nonselection_glyph\":null,\"selection_glyph\":null},\"id\":\"65f950c0-2fe8-4e9e-a316-d9c6f1308674\",\"type\":\"GlyphRenderer\"},{\"attributes\":{\"callback\":null,\"column_names\":[\"line_color\",\"line_alpha\",\"color\",\"fill_alpha\",\"height\",\"width\",\"y\",\"x\",\"label\"],\"data\":{\"chart_index\":[\"(8.000000, 9.000000]\"],\"color\":[\"#f22c40\"],\"fill_alpha\":[0.8],\"height\":[536.0],\"label\":[\"(8.000000, 9.000000]\"],\"line_alpha\":[1.0],\"line_color\":[\"black\"],\"width\":[1.0],\"x\":[\"8.5\"],\"y\":[268.0]}},\"id\":\"80764915-fc6c-4961-9964-96f7e22bd586\",\"type\":\"ColumnDataSource\"},{\"attributes\":{\"callback\":null,\"column_names\":[\"line_color\",\"line_alpha\",\"color\",\"fill_alpha\",\"height\",\"width\",\"y\",\"x\",\"label\"],\"data\":{\"chart_index\":[\"(12.000000, 13.000000]\"],\"color\":[\"#f22c40\"],\"fill_alpha\":[0.8],\"height\":[234.0],\"label\":[\"(12.000000, 13.000000]\"],\"line_alpha\":[1.0],\"line_color\":[\"black\"],\"width\":[1.0],\"x\":[\"12.5\"],\"y\":[117.0]}},\"id\":\"3904f806-268b-4478-94f2-61a8956ca497\",\"type\":\"ColumnDataSource\"},{\"attributes\":{\"callback\":null,\"column_names\":[\"line_color\",\"line_alpha\",\"color\",\"fill_alpha\",\"height\",\"width\",\"y\",\"x\",\"label\"],\"data\":{\"chart_index\":[\"(1.000000, 2.000000]\"],\"color\":[\"#f22c40\"],\"fill_alpha\":[0.8],\"height\":[3969.0],\"label\":[\"(1.000000, 2.000000]\"],\"line_alpha\":[1.0],\"line_color\":[\"black\"],\"width\":[1.0],\"x\":[\"1.5\"],\"y\":[1984.5]}},\"id\":\"39c0f8e3-6d95-491b-a179-217152153de4\",\"type\":\"ColumnDataSource\"},{\"attributes\":{\"callback\":null,\"column_names\":[\"line_color\",\"line_alpha\",\"color\",\"fill_alpha\",\"height\",\"width\",\"y\",\"x\",\"label\"],\"data\":{\"chart_index\":[\"(10.000000, 11.000000]\"],\"color\":[\"#f22c40\"],\"fill_alpha\":[0.8],\"height\":[446.0],\"label\":[\"(10.000000, 11.000000]\"],\"line_alpha\":[1.0],\"line_color\":[\"black\"],\"width\":[1.0],\"x\":[\"10.5\"],\"y\":[223.0]}},\"id\":\"c48d2d5f-f117-4e92-808d-2e58f901e367\",\"type\":\"ColumnDataSource\"},{\"attributes\":{\"data_source\":{\"id\":\"970f6a70-7002-4d58-90e1-2c5e0ec68b5d\",\"type\":\"ColumnDataSource\"},\"glyph\":{\"id\":\"9f467818-92b5-4664-b708-90037d8eebbf\",\"type\":\"Rect\"},\"hover_glyph\":null,\"nonselection_glyph\":null,\"selection_glyph\":null},\"id\":\"93b63b73-30b4-4036-a6f3-12d20e136989\",\"type\":\"GlyphRenderer\"},{\"attributes\":{\"fill_alpha\":{\"field\":\"fill_alpha\"},\"fill_color\":{\"field\":\"color\"},\"height\":{\"field\":\"height\",\"units\":\"data\"},\"line_color\":{\"field\":\"line_color\"},\"width\":{\"field\":\"width\",\"units\":\"data\"},\"x\":{\"field\":\"x\"},\"y\":{\"field\":\"y\"}},\"id\":\"eb05d97c-92a8-42a2-a3b0-d8122620e797\",\"type\":\"Rect\"},{\"attributes\":{\"fill_alpha\":{\"field\":\"fill_alpha\"},\"fill_color\":{\"field\":\"color\"},\"height\":{\"field\":\"height\",\"units\":\"data\"},\"line_color\":{\"field\":\"line_color\"},\"width\":{\"field\":\"width\",\"units\":\"data\"},\"x\":{\"field\":\"x\"},\"y\":{\"field\":\"y\"}},\"id\":\"9f467818-92b5-4664-b708-90037d8eebbf\",\"type\":\"Rect\"},{\"attributes\":{\"data_source\":{\"id\":\"3904f806-268b-4478-94f2-61a8956ca497\",\"type\":\"ColumnDataSource\"},\"glyph\":{\"id\":\"e9eaaba6-abcc-428e-9991-897d04302c0c\",\"type\":\"Rect\"},\"hover_glyph\":null,\"nonselection_glyph\":null,\"selection_glyph\":null},\"id\":\"f6f26e3b-6a9a-44c4-8908-48aadc213abc\",\"type\":\"GlyphRenderer\"},{\"attributes\":{\"fill_alpha\":{\"field\":\"fill_alpha\"},\"fill_color\":{\"field\":\"color\"},\"height\":{\"field\":\"height\",\"units\":\"data\"},\"line_color\":{\"field\":\"line_color\"},\"width\":{\"field\":\"width\",\"units\":\"data\"},\"x\":{\"field\":\"x\"},\"y\":{\"field\":\"y\"}},\"id\":\"1abb6344-4c27-42bb-8e01-2977e0c5a64d\",\"type\":\"Rect\"},{\"attributes\":{\"data_source\":{\"id\":\"39c0f8e3-6d95-491b-a179-217152153de4\",\"type\":\"ColumnDataSource\"},\"glyph\":{\"id\":\"eb05d97c-92a8-42a2-a3b0-d8122620e797\",\"type\":\"Rect\"},\"hover_glyph\":null,\"nonselection_glyph\":null,\"selection_glyph\":null},\"id\":\"1010bdae-4276-489d-acba-c2fd8b95fe49\",\"type\":\"GlyphRenderer\"},{\"attributes\":{\"fill_alpha\":{\"field\":\"fill_alpha\"},\"fill_color\":{\"field\":\"color\"},\"height\":{\"field\":\"height\",\"units\":\"data\"},\"line_color\":{\"field\":\"line_color\"},\"width\":{\"field\":\"width\",\"units\":\"data\"},\"x\":{\"field\":\"x\"},\"y\":{\"field\":\"y\"}},\"id\":\"d5babc67-f33a-40a5-99cf-848e29c75ca4\",\"type\":\"Rect\"},{\"attributes\":{\"plot\":{\"id\":\"e91c3035-1254-444d-806e-941037f9476a\",\"subtype\":\"Chart\",\"type\":\"Plot\"}},\"id\":\"6a8e3622-a814-435e-9e0c-6ce61e94ce51\",\"type\":\"PanTool\"},{\"attributes\":{\"dimension\":1,\"plot\":{\"id\":\"e91c3035-1254-444d-806e-941037f9476a\",\"subtype\":\"Chart\",\"type\":\"Plot\"},\"ticker\":{\"id\":\"71840c1f-72e1-4668-8285-0d7f93bfcbc0\",\"type\":\"BasicTicker\"}},\"id\":\"60e0ea5e-82b4-4d02-95d1-baa4967b33b6\",\"type\":\"Grid\"},{\"attributes\":{\"data_source\":{\"id\":\"73115d43-fc14-4ac3-88b5-9d0f65d89cc0\",\"type\":\"ColumnDataSource\"},\"glyph\":{\"id\":\"45ab97a7-c0f2-42df-b281-d7d9d50d688c\",\"type\":\"Rect\"},\"hover_glyph\":null,\"nonselection_glyph\":null,\"selection_glyph\":null},\"id\":\"b7c7b5b2-504f-4653-9cbd-71838f161ca2\",\"type\":\"GlyphRenderer\"},{\"attributes\":{\"fill_alpha\":{\"field\":\"fill_alpha\"},\"fill_color\":{\"field\":\"color\"},\"height\":{\"field\":\"height\",\"units\":\"data\"},\"line_color\":{\"field\":\"line_color\"},\"width\":{\"field\":\"width\",\"units\":\"data\"},\"x\":{\"field\":\"x\"},\"y\":{\"field\":\"y\"}},\"id\":\"2d6402d7-d7ce-4afa-b6e6-4cca0bb59ee7\",\"type\":\"Rect\"},{\"attributes\":{\"data_source\":{\"id\":\"198d5973-a816-4094-b37d-ba11b2af632b\",\"type\":\"ColumnDataSource\"},\"glyph\":{\"id\":\"1aa5bc75-dc23-4ad0-8bf7-5142a62d1f12\",\"type\":\"Rect\"},\"hover_glyph\":null,\"nonselection_glyph\":null,\"selection_glyph\":null},\"id\":\"c759dd8f-e6cb-42e4-a2e4-67ef7e7add6f\",\"type\":\"GlyphRenderer\"},{\"attributes\":{\"callback\":null,\"column_names\":[\"line_color\",\"line_alpha\",\"color\",\"fill_alpha\",\"height\",\"width\",\"y\",\"x\",\"label\"],\"data\":{\"chart_index\":[\"(13.000000, 14.000000]\"],\"color\":[\"#f22c40\"],\"fill_alpha\":[0.8],\"height\":[143.0],\"label\":[\"(13.000000, 14.000000]\"],\"line_alpha\":[1.0],\"line_color\":[\"black\"],\"width\":[1.0],\"x\":[\"13.5\"],\"y\":[71.5]}},\"id\":\"794b8572-2433-463f-9709-9db031e80906\",\"type\":\"ColumnDataSource\"},{\"attributes\":{\"callback\":null,\"column_names\":[\"line_color\",\"line_alpha\",\"color\",\"fill_alpha\",\"height\",\"width\",\"y\",\"x\",\"label\"],\"data\":{\"chart_index\":[\"(14.000000, 15.000000]\"],\"color\":[\"#f22c40\"],\"fill_alpha\":[0.8],\"height\":[97.0],\"label\":[\"(14.000000, 15.000000]\"],\"line_alpha\":[1.0],\"line_color\":[\"black\"],\"width\":[1.0],\"x\":[\"14.5\"],\"y\":[48.5]}},\"id\":\"f3648058-ae62-4cc9-ad53-d150ff01523a\",\"type\":\"ColumnDataSource\"},{\"attributes\":{\"fill_alpha\":{\"field\":\"fill_alpha\"},\"fill_color\":{\"field\":\"color\"},\"height\":{\"field\":\"height\",\"units\":\"data\"},\"line_color\":{\"field\":\"line_color\"},\"width\":{\"field\":\"width\",\"units\":\"data\"},\"x\":{\"field\":\"x\"},\"y\":{\"field\":\"y\"}},\"id\":\"e9eaaba6-abcc-428e-9991-897d04302c0c\",\"type\":\"Rect\"},{\"attributes\":{\"fill_alpha\":{\"field\":\"fill_alpha\"},\"fill_color\":{\"field\":\"color\"},\"height\":{\"field\":\"height\",\"units\":\"data\"},\"line_color\":{\"field\":\"line_color\"},\"width\":{\"field\":\"width\",\"units\":\"data\"},\"x\":{\"field\":\"x\"},\"y\":{\"field\":\"y\"}},\"id\":\"7d29ea23-c545-4482-8954-4029e701276a\",\"type\":\"Rect\"},{\"attributes\":{\"callback\":null,\"column_names\":[\"line_color\",\"line_alpha\",\"color\",\"fill_alpha\",\"height\",\"width\",\"y\",\"x\",\"label\"],\"data\":{\"chart_index\":[\"(16.000000, 17.000000]\"],\"color\":[\"#f22c40\"],\"fill_alpha\":[0.8],\"height\":[36.0],\"label\":[\"(16.000000, 17.000000]\"],\"line_alpha\":[1.0],\"line_color\":[\"black\"],\"width\":[1.0],\"x\":[\"16.5\"],\"y\":[18.0]}},\"id\":\"0a765c5e-095c-42ab-b3c7-76e83eea29f9\",\"type\":\"ColumnDataSource\"},{\"attributes\":{\"data_source\":{\"id\":\"c42255c0-ea44-4b7b-860f-1eb73bbfdfe5\",\"type\":\"ColumnDataSource\"},\"glyph\":{\"id\":\"ff37a16a-efd6-4193-beea-76fe1247dc66\",\"type\":\"Rect\"},\"hover_glyph\":null,\"nonselection_glyph\":null,\"selection_glyph\":null},\"id\":\"e3b17dc2-d77c-43b3-ba98-a44e003350ed\",\"type\":\"GlyphRenderer\"},{\"attributes\":{},\"id\":\"060c0cbb-2076-4d4a-8301-26261cf1fe57\",\"type\":\"BasicTickFormatter\"},{\"attributes\":{\"callback\":null,\"column_names\":[\"line_color\",\"line_alpha\",\"color\",\"fill_alpha\",\"height\",\"width\",\"y\",\"x\",\"label\"],\"data\":{\"chart_index\":[\"(4.000000, 5.000000]\"],\"color\":[\"#f22c40\"],\"fill_alpha\":[0.8],\"height\":[1071.0],\"label\":[\"(4.000000, 5.000000]\"],\"line_alpha\":[1.0],\"line_color\":[\"black\"],\"width\":[1.0],\"x\":[\"4.5\"],\"y\":[535.5]}},\"id\":\"36ec3ad5-661b-4716-97a9-912083195fbc\",\"type\":\"ColumnDataSource\"},{\"attributes\":{\"callback\":null,\"column_names\":[\"line_color\",\"line_alpha\",\"color\",\"fill_alpha\",\"height\",\"width\",\"y\",\"x\",\"label\"],\"data\":{\"chart_index\":[\"(5.000000, 6.000000]\"],\"color\":[\"#f22c40\"],\"fill_alpha\":[0.8],\"height\":[992.0],\"label\":[\"(5.000000, 6.000000]\"],\"line_alpha\":[1.0],\"line_color\":[\"black\"],\"width\":[1.0],\"x\":[\"5.5\"],\"y\":[496.0]}},\"id\":\"1a86e0c1-fd69-4009-96e3-6abe75c566ae\",\"type\":\"ColumnDataSource\"},{\"attributes\":{\"callback\":null,\"column_names\":[\"line_color\",\"line_alpha\",\"color\",\"fill_alpha\",\"height\",\"width\",\"y\",\"x\",\"label\"],\"data\":{\"chart_index\":[\"(19.000000, 20.000000]\"],\"color\":[\"#f22c40\"],\"fill_alpha\":[0.8],\"height\":[5.0],\"label\":[\"(19.000000, 20.000000]\"],\"line_alpha\":[1.0],\"line_color\":[\"black\"],\"width\":[1.0],\"x\":[\"19.5\"],\"y\":[2.5]}},\"id\":\"198d5973-a816-4094-b37d-ba11b2af632b\",\"type\":\"ColumnDataSource\"},{\"attributes\":{\"data_source\":{\"id\":\"27a1fea1-7664-4512-8c38-1dc7aaf4b799\",\"type\":\"ColumnDataSource\"},\"glyph\":{\"id\":\"d6dfe6cc-15e5-4236-a154-db5fc360f71a\",\"type\":\"Rect\"},\"hover_glyph\":null,\"nonselection_glyph\":null,\"selection_glyph\":null},\"id\":\"983a3659-7e99-4d75-a19f-b3ca33a19df2\",\"type\":\"GlyphRenderer\"},{\"attributes\":{\"overlay\":{\"id\":\"a217887e-d921-47ab-943a-816adead3de1\",\"type\":\"BoxAnnotation\"},\"plot\":{\"id\":\"e91c3035-1254-444d-806e-941037f9476a\",\"subtype\":\"Chart\",\"type\":\"Plot\"}},\"id\":\"96981542-8468-4341-8a20-b98bbcf77572\",\"type\":\"BoxZoomTool\"},{\"attributes\":{\"plot\":{\"id\":\"e91c3035-1254-444d-806e-941037f9476a\",\"subtype\":\"Chart\",\"type\":\"Plot\"}},\"id\":\"24083939-5b95-4ae4-99a4-3634756d217a\",\"type\":\"WheelZoomTool\"},{\"attributes\":{},\"id\":\"be5dcc09-e842-4820-9e6d-a23f6ecf57b8\",\"type\":\"BasicTickFormatter\"},{\"attributes\":{\"callback\":null,\"column_names\":[\"line_color\",\"line_alpha\",\"color\",\"fill_alpha\",\"height\",\"width\",\"y\",\"x\",\"label\"],\"data\":{\"chart_index\":[\"(6.000000, 7.000000]\"],\"color\":[\"#f22c40\"],\"fill_alpha\":[0.8],\"height\":[670.0],\"label\":[\"(6.000000, 7.000000]\"],\"line_alpha\":[1.0],\"line_color\":[\"black\"],\"width\":[1.0],\"x\":[\"6.5\"],\"y\":[335.0]}},\"id\":\"c42255c0-ea44-4b7b-860f-1eb73bbfdfe5\",\"type\":\"ColumnDataSource\"},{\"attributes\":{\"fill_alpha\":{\"field\":\"fill_alpha\"},\"fill_color\":{\"field\":\"color\"},\"height\":{\"field\":\"height\",\"units\":\"data\"},\"line_color\":{\"field\":\"line_color\"},\"width\":{\"field\":\"width\",\"units\":\"data\"},\"x\":{\"field\":\"x\"},\"y\":{\"field\":\"y\"}},\"id\":\"ff37a16a-efd6-4193-beea-76fe1247dc66\",\"type\":\"Rect\"},{\"attributes\":{\"plot\":{\"id\":\"e91c3035-1254-444d-806e-941037f9476a\",\"subtype\":\"Chart\",\"type\":\"Plot\"}},\"id\":\"231240e5-7d52-4ad5-b390-504f31bff19c\",\"type\":\"SaveTool\"},{\"attributes\":{\"fill_alpha\":{\"field\":\"fill_alpha\"},\"fill_color\":{\"field\":\"color\"},\"height\":{\"field\":\"height\",\"units\":\"data\"},\"line_color\":{\"field\":\"line_color\"},\"width\":{\"field\":\"width\",\"units\":\"data\"},\"x\":{\"field\":\"x\"},\"y\":{\"field\":\"y\"}},\"id\":\"ed2729be-5370-425c-b527-cc6c3d8c9ae6\",\"type\":\"Rect\"},{\"attributes\":{\"fill_alpha\":{\"field\":\"fill_alpha\"},\"fill_color\":{\"field\":\"color\"},\"height\":{\"field\":\"height\",\"units\":\"data\"},\"line_color\":{\"field\":\"line_color\"},\"width\":{\"field\":\"width\",\"units\":\"data\"},\"x\":{\"field\":\"x\"},\"y\":{\"field\":\"y\"}},\"id\":\"ea60e84b-494c-4b01-a090-bdc1f64baa77\",\"type\":\"Rect\"},{\"attributes\":{\"data_source\":{\"id\":\"a81a1254-5d6d-4417-933e-288775ec7015\",\"type\":\"ColumnDataSource\"},\"glyph\":{\"id\":\"eada3a90-c28f-4301-9f3d-fa83cb02ef09\",\"type\":\"Rect\"},\"hover_glyph\":null,\"nonselection_glyph\":null,\"selection_glyph\":null},\"id\":\"2487658d-70bc-41c1-864e-8d32d54706e9\",\"type\":\"GlyphRenderer\"},{\"attributes\":{\"fill_alpha\":{\"field\":\"fill_alpha\"},\"fill_color\":{\"field\":\"color\"},\"height\":{\"field\":\"height\",\"units\":\"data\"},\"line_color\":{\"field\":\"line_color\"},\"width\":{\"field\":\"width\",\"units\":\"data\"},\"x\":{\"field\":\"x\"},\"y\":{\"field\":\"y\"}},\"id\":\"1aa5bc75-dc23-4ad0-8bf7-5142a62d1f12\",\"type\":\"Rect\"},{\"attributes\":{\"data_source\":{\"id\":\"74aa814e-b6a3-474d-9c61-b18a715a5e87\",\"type\":\"ColumnDataSource\"},\"glyph\":{\"id\":\"fb755b35-1840-4556-949a-f3dbfae396b3\",\"type\":\"Rect\"},\"hover_glyph\":null,\"nonselection_glyph\":null,\"selection_glyph\":null},\"id\":\"5c0ef0d5-3626-412e-9dfe-bc52ea103fe7\",\"type\":\"GlyphRenderer\"},{\"attributes\":{},\"id\":\"71840c1f-72e1-4668-8285-0d7f93bfcbc0\",\"type\":\"BasicTicker\"},{\"attributes\":{\"location\":\"top_left\",\"plot\":{\"id\":\"e91c3035-1254-444d-806e-941037f9476a\",\"subtype\":\"Chart\",\"type\":\"Plot\"}},\"id\":\"90b38f9d-3e8b-4309-9230-4aa3fa4b41d0\",\"type\":\"Legend\"},{\"attributes\":{\"plot\":{\"id\":\"e91c3035-1254-444d-806e-941037f9476a\",\"subtype\":\"Chart\",\"type\":\"Plot\"}},\"id\":\"558ac70a-677d-4548-9469-167a261fa6d7\",\"type\":\"HelpTool\"},{\"attributes\":{\"fill_alpha\":{\"field\":\"fill_alpha\"},\"fill_color\":{\"field\":\"color\"},\"height\":{\"field\":\"height\",\"units\":\"data\"},\"line_color\":{\"field\":\"line_color\"},\"width\":{\"field\":\"width\",\"units\":\"data\"},\"x\":{\"field\":\"x\"},\"y\":{\"field\":\"y\"}},\"id\":\"e69e36c1-9c34-49a0-96bd-a88bac5edc3a\",\"type\":\"Rect\"},{\"attributes\":{\"below\":[{\"id\":\"92a1376a-b725-4762-9e1a-b2dc6aba0ec4\",\"type\":\"LinearAxis\"}],\"css_classes\":null,\"left\":[{\"id\":\"4dccc542-925e-49eb-8980-07e3996f8f58\",\"type\":\"LinearAxis\"}],\"renderers\":[{\"id\":\"a217887e-d921-47ab-943a-816adead3de1\",\"type\":\"BoxAnnotation\"},{\"id\":\"2487658d-70bc-41c1-864e-8d32d54706e9\",\"type\":\"GlyphRenderer\"},{\"id\":\"1010bdae-4276-489d-acba-c2fd8b95fe49\",\"type\":\"GlyphRenderer\"},{\"id\":\"b7c7b5b2-504f-4653-9cbd-71838f161ca2\",\"type\":\"GlyphRenderer\"},{\"id\":\"5a3f6c21-0ee7-49a7-bac2-185f7536d95f\",\"type\":\"GlyphRenderer\"},{\"id\":\"65f950c0-2fe8-4e9e-a316-d9c6f1308674\",\"type\":\"GlyphRenderer\"},{\"id\":\"577e3c44-41b5-4f32-beb0-c960f6883aea\",\"type\":\"GlyphRenderer\"},{\"id\":\"e3b17dc2-d77c-43b3-ba98-a44e003350ed\",\"type\":\"GlyphRenderer\"},{\"id\":\"93b63b73-30b4-4036-a6f3-12d20e136989\",\"type\":\"GlyphRenderer\"},{\"id\":\"353a834d-6601-4104-974e-8c202deb2171\",\"type\":\"GlyphRenderer\"},{\"id\":\"81173721-0c7c-4206-94dc-59fc7abea91e\",\"type\":\"GlyphRenderer\"},{\"id\":\"6a7b4af9-e4f7-4b8e-8f35-2874687c9ddf\",\"type\":\"GlyphRenderer\"},{\"id\":\"983a3659-7e99-4d75-a19f-b3ca33a19df2\",\"type\":\"GlyphRenderer\"},{\"id\":\"f6f26e3b-6a9a-44c4-8908-48aadc213abc\",\"type\":\"GlyphRenderer\"},{\"id\":\"1d71d758-f12e-4dff-a33f-20ef4bfd8aa4\",\"type\":\"GlyphRenderer\"},{\"id\":\"53a7941e-ea03-4a24-b75c-02ed3c05a1fe\",\"type\":\"GlyphRenderer\"},{\"id\":\"5c0ef0d5-3626-412e-9dfe-bc52ea103fe7\",\"type\":\"GlyphRenderer\"},{\"id\":\"a38d5b9a-f64a-431b-af96-aa0051f71185\",\"type\":\"GlyphRenderer\"},{\"id\":\"1690af24-a26c-4b52-8d0d-db4d68949848\",\"type\":\"GlyphRenderer\"},{\"id\":\"a5ef77db-3d33-4ea8-b872-f220b2cc7edb\",\"type\":\"GlyphRenderer\"},{\"id\":\"c759dd8f-e6cb-42e4-a2e4-67ef7e7add6f\",\"type\":\"GlyphRenderer\"},{\"id\":\"90b38f9d-3e8b-4309-9230-4aa3fa4b41d0\",\"type\":\"Legend\"},{\"id\":\"92a1376a-b725-4762-9e1a-b2dc6aba0ec4\",\"type\":\"LinearAxis\"},{\"id\":\"4dccc542-925e-49eb-8980-07e3996f8f58\",\"type\":\"LinearAxis\"},{\"id\":\"60e0ea5e-82b4-4d02-95d1-baa4967b33b6\",\"type\":\"Grid\"}],\"title\":{\"id\":\"8f243d1f-afa2-426e-961f-328681f79793\",\"type\":\"Title\"},\"tool_events\":{\"id\":\"8dcdce72-026c-4bf2-a1e6-71c1aefbdd6a\",\"type\":\"ToolEvents\"},\"toolbar\":{\"id\":\"aab4be09-4948-4e7a-96a2-7a99c6a8c752\",\"type\":\"Toolbar\"},\"x_mapper_type\":\"auto\",\"x_range\":{\"id\":\"6d80e931-ed35-41ef-b388-f61c01e76154\",\"type\":\"Range1d\"},\"y_mapper_type\":\"auto\",\"y_range\":{\"id\":\"92928b07-d239-405a-baac-cb451ff7a80b\",\"type\":\"Range1d\"}},\"id\":\"e91c3035-1254-444d-806e-941037f9476a\",\"subtype\":\"Chart\",\"type\":\"Plot\"},{\"attributes\":{\"callback\":null,\"end\":13098.800000000001},\"id\":\"92928b07-d239-405a-baac-cb451ff7a80b\",\"type\":\"Range1d\"},{\"attributes\":{\"plot\":null,\"text\":\"Age\"},\"id\":\"8f243d1f-afa2-426e-961f-328681f79793\",\"type\":\"Title\"},{\"attributes\":{\"callback\":null,\"column_names\":[\"line_color\",\"line_alpha\",\"color\",\"fill_alpha\",\"height\",\"width\",\"y\",\"x\",\"label\"],\"data\":{\"chart_index\":[\"(7.000000, 8.000000]\"],\"color\":[\"#f22c40\"],\"fill_alpha\":[0.8],\"height\":[531.0],\"label\":[\"(7.000000, 8.000000]\"],\"line_alpha\":[1.0],\"line_color\":[\"black\"],\"width\":[1.0],\"x\":[\"7.5\"],\"y\":[265.5]}},\"id\":\"970f6a70-7002-4d58-90e1-2c5e0ec68b5d\",\"type\":\"ColumnDataSource\"},{\"attributes\":{\"fill_alpha\":{\"field\":\"fill_alpha\"},\"fill_color\":{\"field\":\"color\"},\"height\":{\"field\":\"height\",\"units\":\"data\"},\"line_color\":{\"field\":\"line_color\"},\"width\":{\"field\":\"width\",\"units\":\"data\"},\"x\":{\"field\":\"x\"},\"y\":{\"field\":\"y\"}},\"id\":\"d6dfe6cc-15e5-4236-a154-db5fc360f71a\",\"type\":\"Rect\"},{\"attributes\":{\"callback\":null,\"end\":20.5,\"start\":-0.5},\"id\":\"6d80e931-ed35-41ef-b388-f61c01e76154\",\"type\":\"Range1d\"},{\"attributes\":{\"data_source\":{\"id\":\"f3648058-ae62-4cc9-ad53-d150ff01523a\",\"type\":\"ColumnDataSource\"},\"glyph\":{\"id\":\"ed2729be-5370-425c-b527-cc6c3d8c9ae6\",\"type\":\"Rect\"},\"hover_glyph\":null,\"nonselection_glyph\":null,\"selection_glyph\":null},\"id\":\"53a7941e-ea03-4a24-b75c-02ed3c05a1fe\",\"type\":\"GlyphRenderer\"},{\"attributes\":{\"axis_label\":\"Count( Ageinyears )\",\"formatter\":{\"id\":\"060c0cbb-2076-4d4a-8301-26261cf1fe57\",\"type\":\"BasicTickFormatter\"},\"plot\":{\"id\":\"e91c3035-1254-444d-806e-941037f9476a\",\"subtype\":\"Chart\",\"type\":\"Plot\"},\"ticker\":{\"id\":\"71840c1f-72e1-4668-8285-0d7f93bfcbc0\",\"type\":\"BasicTicker\"}},\"id\":\"4dccc542-925e-49eb-8980-07e3996f8f58\",\"type\":\"LinearAxis\"},{\"attributes\":{\"fill_alpha\":{\"field\":\"fill_alpha\"},\"fill_color\":{\"field\":\"color\"},\"height\":{\"field\":\"height\",\"units\":\"data\"},\"line_color\":{\"field\":\"line_color\"},\"width\":{\"field\":\"width\",\"units\":\"data\"},\"x\":{\"field\":\"x\"},\"y\":{\"field\":\"y\"}},\"id\":\"fb755b35-1840-4556-949a-f3dbfae396b3\",\"type\":\"Rect\"},{\"attributes\":{\"fill_alpha\":{\"field\":\"fill_alpha\"},\"fill_color\":{\"field\":\"color\"},\"height\":{\"field\":\"height\",\"units\":\"data\"},\"line_color\":{\"field\":\"line_color\"},\"width\":{\"field\":\"width\",\"units\":\"data\"},\"x\":{\"field\":\"x\"},\"y\":{\"field\":\"y\"}},\"id\":\"eada3a90-c28f-4301-9f3d-fa83cb02ef09\",\"type\":\"Rect\"},{\"attributes\":{\"fill_alpha\":{\"field\":\"fill_alpha\"},\"fill_color\":{\"field\":\"color\"},\"height\":{\"field\":\"height\",\"units\":\"data\"},\"line_color\":{\"field\":\"line_color\"},\"width\":{\"field\":\"width\",\"units\":\"data\"},\"x\":{\"field\":\"x\"},\"y\":{\"field\":\"y\"}},\"id\":\"8d2b15a5-1f45-47fe-918d-f0871be7ddf2\",\"type\":\"Rect\"},{\"attributes\":{\"data_source\":{\"id\":\"fd282fcf-e699-4afe-9e4d-9dd29e088b20\",\"type\":\"ColumnDataSource\"},\"glyph\":{\"id\":\"25248d69-28e8-48f0-9533-e16cacb28819\",\"type\":\"Rect\"},\"hover_glyph\":null,\"nonselection_glyph\":null,\"selection_glyph\":null},\"id\":\"1690af24-a26c-4b52-8d0d-db4d68949848\",\"type\":\"GlyphRenderer\"},{\"attributes\":{\"callback\":null,\"column_names\":[\"line_color\",\"line_alpha\",\"color\",\"fill_alpha\",\"height\",\"width\",\"y\",\"x\",\"label\"],\"data\":{\"chart_index\":[\"(11.000000, 12.000000]\"],\"color\":[\"#f22c40\"],\"fill_alpha\":[0.8],\"height\":[126.0],\"label\":[\"(11.000000, 12.000000]\"],\"line_alpha\":[1.0],\"line_color\":[\"black\"],\"width\":[1.0],\"x\":[\"11.5\"],\"y\":[63.0]}},\"id\":\"27a1fea1-7664-4512-8c38-1dc7aaf4b799\",\"type\":\"ColumnDataSource\"},{\"attributes\":{},\"id\":\"8dcdce72-026c-4bf2-a1e6-71c1aefbdd6a\",\"type\":\"ToolEvents\"},{\"attributes\":{\"bottom_units\":\"screen\",\"fill_alpha\":{\"value\":0.5},\"fill_color\":{\"value\":\"lightgrey\"},\"left_units\":\"screen\",\"level\":\"overlay\",\"line_alpha\":{\"value\":1.0},\"line_color\":{\"value\":\"black\"},\"line_dash\":[4,4],\"line_width\":{\"value\":2},\"plot\":null,\"render_mode\":\"css\",\"right_units\":\"screen\",\"top_units\":\"screen\"},\"id\":\"a217887e-d921-47ab-943a-816adead3de1\",\"type\":\"BoxAnnotation\"},{\"attributes\":{\"callback\":null,\"column_names\":[\"line_color\",\"line_alpha\",\"color\",\"fill_alpha\",\"height\",\"width\",\"y\",\"x\",\"label\"],\"data\":{\"chart_index\":[\"(15.000000, 16.000000]\"],\"color\":[\"#f22c40\"],\"fill_alpha\":[0.8],\"height\":[85.0],\"label\":[\"(15.000000, 16.000000]\"],\"line_alpha\":[1.0],\"line_color\":[\"black\"],\"width\":[1.0],\"x\":[\"15.5\"],\"y\":[42.5]}},\"id\":\"74aa814e-b6a3-474d-9c61-b18a715a5e87\",\"type\":\"ColumnDataSource\"},{\"attributes\":{\"active_drag\":\"auto\",\"active_scroll\":\"auto\",\"active_tap\":\"auto\",\"tools\":[{\"id\":\"6a8e3622-a814-435e-9e0c-6ce61e94ce51\",\"type\":\"PanTool\"},{\"id\":\"24083939-5b95-4ae4-99a4-3634756d217a\",\"type\":\"WheelZoomTool\"},{\"id\":\"96981542-8468-4341-8a20-b98bbcf77572\",\"type\":\"BoxZoomTool\"},{\"id\":\"231240e5-7d52-4ad5-b390-504f31bff19c\",\"type\":\"SaveTool\"},{\"id\":\"ca08cb81-2f4f-42ab-af6c-411846bdad60\",\"type\":\"ResetTool\"},{\"id\":\"558ac70a-677d-4548-9469-167a261fa6d7\",\"type\":\"HelpTool\"}]},\"id\":\"aab4be09-4948-4e7a-96a2-7a99c6a8c752\",\"type\":\"Toolbar\"},{\"attributes\":{\"fill_alpha\":{\"field\":\"fill_alpha\"},\"fill_color\":{\"field\":\"color\"},\"height\":{\"field\":\"height\",\"units\":\"data\"},\"line_color\":{\"field\":\"line_color\"},\"width\":{\"field\":\"width\",\"units\":\"data\"},\"x\":{\"field\":\"x\"},\"y\":{\"field\":\"y\"}},\"id\":\"45ab97a7-c0f2-42df-b281-d7d9d50d688c\",\"type\":\"Rect\"},{\"attributes\":{\"data_source\":{\"id\":\"c48d2d5f-f117-4e92-808d-2e58f901e367\",\"type\":\"ColumnDataSource\"},\"glyph\":{\"id\":\"d38c2975-690b-49bf-9ec5-469fd51b226c\",\"type\":\"Rect\"},\"hover_glyph\":null,\"nonselection_glyph\":null,\"selection_glyph\":null},\"id\":\"6a7b4af9-e4f7-4b8e-8f35-2874687c9ddf\",\"type\":\"GlyphRenderer\"},{\"attributes\":{\"axis_label\":\"AgeInYears\",\"formatter\":{\"id\":\"be5dcc09-e842-4820-9e6d-a23f6ecf57b8\",\"type\":\"BasicTickFormatter\"},\"plot\":{\"id\":\"e91c3035-1254-444d-806e-941037f9476a\",\"subtype\":\"Chart\",\"type\":\"Plot\"},\"ticker\":{\"id\":\"46ebc3b4-0a72-41cb-89ea-8a02a5c5797b\",\"type\":\"BasicTicker\"}},\"id\":\"92a1376a-b725-4762-9e1a-b2dc6aba0ec4\",\"type\":\"LinearAxis\"},{\"attributes\":{\"fill_alpha\":{\"field\":\"fill_alpha\"},\"fill_color\":{\"field\":\"color\"},\"height\":{\"field\":\"height\",\"units\":\"data\"},\"line_color\":{\"field\":\"line_color\"},\"width\":{\"field\":\"width\",\"units\":\"data\"},\"x\":{\"field\":\"x\"},\"y\":{\"field\":\"y\"}},\"id\":\"d38c2975-690b-49bf-9ec5-469fd51b226c\",\"type\":\"Rect\"},{\"attributes\":{\"data_source\":{\"id\":\"1a86e0c1-fd69-4009-96e3-6abe75c566ae\",\"type\":\"ColumnDataSource\"},\"glyph\":{\"id\":\"d5babc67-f33a-40a5-99cf-848e29c75ca4\",\"type\":\"Rect\"},\"hover_glyph\":null,\"nonselection_glyph\":null,\"selection_glyph\":null},\"id\":\"577e3c44-41b5-4f32-beb0-c960f6883aea\",\"type\":\"GlyphRenderer\"},{\"attributes\":{\"data_source\":{\"id\":\"80764915-fc6c-4961-9964-96f7e22bd586\",\"type\":\"ColumnDataSource\"},\"glyph\":{\"id\":\"2d6402d7-d7ce-4afa-b6e6-4cca0bb59ee7\",\"type\":\"Rect\"},\"hover_glyph\":null,\"nonselection_glyph\":null,\"selection_glyph\":null},\"id\":\"353a834d-6601-4104-974e-8c202deb2171\",\"type\":\"GlyphRenderer\"},{\"attributes\":{\"data_source\":{\"id\":\"0a765c5e-095c-42ab-b3c7-76e83eea29f9\",\"type\":\"ColumnDataSource\"},\"glyph\":{\"id\":\"ea60e84b-494c-4b01-a090-bdc1f64baa77\",\"type\":\"Rect\"},\"hover_glyph\":null,\"nonselection_glyph\":null,\"selection_glyph\":null},\"id\":\"a38d5b9a-f64a-431b-af96-aa0051f71185\",\"type\":\"GlyphRenderer\"},{\"attributes\":{\"callback\":null,\"column_names\":[\"line_color\",\"line_alpha\",\"color\",\"fill_alpha\",\"height\",\"width\",\"y\",\"x\",\"label\"],\"data\":{\"chart_index\":[\"(3.000000, 4.000000]\"],\"color\":[\"#f22c40\"],\"fill_alpha\":[0.8],\"height\":[1823.0],\"label\":[\"(3.000000, 4.000000]\"],\"line_alpha\":[1.0],\"line_color\":[\"black\"],\"width\":[1.0],\"x\":[\"3.5\"],\"y\":[911.5]}},\"id\":\"1583d35c-6bf6-4f8b-9727-4f4256e3e007\",\"type\":\"ColumnDataSource\"},{\"attributes\":{},\"id\":\"46ebc3b4-0a72-41cb-89ea-8a02a5c5797b\",\"type\":\"BasicTicker\"},{\"attributes\":{\"fill_alpha\":{\"field\":\"fill_alpha\"},\"fill_color\":{\"field\":\"color\"},\"height\":{\"field\":\"height\",\"units\":\"data\"},\"line_color\":{\"field\":\"line_color\"},\"width\":{\"field\":\"width\",\"units\":\"data\"},\"x\":{\"field\":\"x\"},\"y\":{\"field\":\"y\"}},\"id\":\"9f2c8064-bdb1-4317-8e9a-07a7520097e6\",\"type\":\"Rect\"},{\"attributes\":{\"fill_alpha\":{\"field\":\"fill_alpha\"},\"fill_color\":{\"field\":\"color\"},\"height\":{\"field\":\"height\",\"units\":\"data\"},\"line_color\":{\"field\":\"line_color\"},\"width\":{\"field\":\"width\",\"units\":\"data\"},\"x\":{\"field\":\"x\"},\"y\":{\"field\":\"y\"}},\"id\":\"25248d69-28e8-48f0-9533-e16cacb28819\",\"type\":\"Rect\"},{\"attributes\":{\"data_source\":{\"id\":\"794b8572-2433-463f-9709-9db031e80906\",\"type\":\"ColumnDataSource\"},\"glyph\":{\"id\":\"7d29ea23-c545-4482-8954-4029e701276a\",\"type\":\"Rect\"},\"hover_glyph\":null,\"nonselection_glyph\":null,\"selection_glyph\":null},\"id\":\"1d71d758-f12e-4dff-a33f-20ef4bfd8aa4\",\"type\":\"GlyphRenderer\"},{\"attributes\":{\"data_source\":{\"id\":\"ae7b292d-aeaa-4c90-8aac-1748b0c537a3\",\"type\":\"ColumnDataSource\"},\"glyph\":{\"id\":\"8d2b15a5-1f45-47fe-918d-f0871be7ddf2\",\"type\":\"Rect\"},\"hover_glyph\":null,\"nonselection_glyph\":null,\"selection_glyph\":null},\"id\":\"81173721-0c7c-4206-94dc-59fc7abea91e\",\"type\":\"GlyphRenderer\"},{\"attributes\":{\"callback\":null,\"column_names\":[\"line_color\",\"line_alpha\",\"color\",\"fill_alpha\",\"height\",\"width\",\"y\",\"x\",\"label\"],\"data\":{\"chart_index\":[\"(9.000000, 10.000000]\"],\"color\":[\"#f22c40\"],\"fill_alpha\":[0.8],\"height\":[288.0],\"label\":[\"(9.000000, 10.000000]\"],\"line_alpha\":[1.0],\"line_color\":[\"black\"],\"width\":[1.0],\"x\":[\"9.5\"],\"y\":[144.0]}},\"id\":\"ae7b292d-aeaa-4c90-8aac-1748b0c537a3\",\"type\":\"ColumnDataSource\"},{\"attributes\":{\"plot\":{\"id\":\"e91c3035-1254-444d-806e-941037f9476a\",\"subtype\":\"Chart\",\"type\":\"Plot\"}},\"id\":\"ca08cb81-2f4f-42ab-af6c-411846bdad60\",\"type\":\"ResetTool\"},{\"attributes\":{\"data_source\":{\"id\":\"7ec9892b-0eb4-448f-a601-1f8fc17ec3d4\",\"type\":\"ColumnDataSource\"},\"glyph\":{\"id\":\"e69e36c1-9c34-49a0-96bd-a88bac5edc3a\",\"type\":\"Rect\"},\"hover_glyph\":null,\"nonselection_glyph\":null,\"selection_glyph\":null},\"id\":\"a5ef77db-3d33-4ea8-b872-f220b2cc7edb\",\"type\":\"GlyphRenderer\"},{\"attributes\":{\"callback\":null,\"column_names\":[\"line_color\",\"line_alpha\",\"color\",\"fill_alpha\",\"height\",\"width\",\"y\",\"x\",\"label\"],\"data\":{\"chart_index\":[\"(18.000000, 19.000000]\"],\"color\":[\"#f22c40\"],\"fill_alpha\":[0.8],\"height\":[10.0],\"label\":[\"(18.000000, 19.000000]\"],\"line_alpha\":[1.0],\"line_color\":[\"black\"],\"width\":[1.0],\"x\":[\"18.5\"],\"y\":[5.0]}},\"id\":\"7ec9892b-0eb4-448f-a601-1f8fc17ec3d4\",\"type\":\"ColumnDataSource\"}],\"root_ids\":[\"e91c3035-1254-444d-806e-941037f9476a\"]},\"title\":\"Bokeh Application\",\"version\":\"0.12.4\"}};\n",
       "            var render_items = [{\"docid\":\"c255bb1e-5d96-41e0-83bd-02123b6d6f92\",\"elementid\":\"18969079-90c9-4177-acd9-c2184e6c4e64\",\"modelid\":\"e91c3035-1254-444d-806e-941037f9476a\"}];\n",
       "            \n",
       "            Bokeh.embed.embed_items(docs_json, render_items);\n",
       "          };\n",
       "          if (document.readyState != \"loading\") fn();\n",
       "          else document.addEventListener(\"DOMContentLoaded\", fn);\n",
       "        })();\n",
       "      },\n",
       "      function(Bokeh) {\n",
       "      }\n",
       "    ];\n",
       "  \n",
       "    function run_inline_js() {\n",
       "      \n",
       "      if ((window.Bokeh !== undefined) || (force === true)) {\n",
       "        for (var i = 0; i < inline_js.length; i++) {\n",
       "          inline_js[i](window.Bokeh);\n",
       "        }if (force === true) {\n",
       "          display_loaded();\n",
       "        }} else if (Date.now() < window._bokeh_timeout) {\n",
       "        setTimeout(run_inline_js, 100);\n",
       "      } else if (!window._bokeh_failed_load) {\n",
       "        console.log(\"Bokeh: BokehJS failed to load within specified timeout.\");\n",
       "        window._bokeh_failed_load = true;\n",
       "      } else if (force !== true) {\n",
       "        var cell = $(document.getElementById(\"18969079-90c9-4177-acd9-c2184e6c4e64\")).parents('.cell').data().cell;\n",
       "        cell.output_area.append_execute_result(NB_LOAD_WARNING)\n",
       "      }\n",
       "  \n",
       "    }\n",
       "  \n",
       "    if (window._bokeh_is_loading === 0) {\n",
       "      console.log(\"Bokeh: BokehJS loaded, going straight to plotting\");\n",
       "      run_inline_js();\n",
       "    } else {\n",
       "      load_libs(js_urls, function() {\n",
       "        console.log(\"Bokeh: BokehJS plotting callback run at\", now());\n",
       "        run_inline_js();\n",
       "      });\n",
       "    }\n",
       "  }(this));\n",
       "</script>"
      ]
     },
     "metadata": {},
     "output_type": "display_data"
    }
   ],
   "source": [
    "p = Histogram(Data['AgeInYears'],title = 'Age',bins = 20)\n",
    "show(p)"
   ]
  },
  {
   "cell_type": "markdown",
   "metadata": {},
   "source": [
    "# Constructing the Interactive Model"
   ]
  },
  {
   "cell_type": "markdown",
   "metadata": {},
   "source": [
    "The following few steps is to get the correct columns"
   ]
  },
  {
   "cell_type": "code",
   "execution_count": 512,
   "metadata": {
    "collapsed": false
   },
   "outputs": [],
   "source": [
    "ageinyears = x['AgeInYears'].unique()"
   ]
  },
  {
   "cell_type": "code",
   "execution_count": 513,
   "metadata": {
    "collapsed": false
   },
   "outputs": [
    {
     "data": {
      "text/plain": [
       "array([  1.00000000e+00,   2.00000000e+00,   5.76923077e-02,\n",
       "         8.33333333e-02,   4.16666667e-01,   4.00000000e+00,\n",
       "         2.50000000e-01,   3.84615385e-02,   1.66666667e-01,\n",
       "         8.33333333e-01,   5.00000000e-01,   5.00000000e+00,\n",
       "         7.00000000e+00,   3.00000000e+00,   3.33333333e-01,\n",
       "         1.20000000e+01,   9.00000000e+00,   6.00000000e+00,\n",
       "         1.92307692e-02,   1.10000000e+01,   7.69230769e-02,\n",
       "         5.83333333e-01,   8.00000000e+00,   9.16666667e-01,\n",
       "         1.09589041e-02,   7.50000000e-01,   6.66666667e-01,\n",
       "         1.50000000e+01,   1.00000000e+01,   0.00000000e+00,\n",
       "         1.40000000e+01,   8.21917808e-03,   1.64383562e-02,\n",
       "         1.36986301e-02,   9.61538462e-02,   5.47945205e-03,\n",
       "         1.60000000e+01,   2.73972603e-03,   1.30000000e+01,\n",
       "         1.70000000e+01,   1.80000000e+01,   1.90000000e+01,\n",
       "         2.00000000e+01])"
      ]
     },
     "execution_count": 513,
     "metadata": {},
     "output_type": "execute_result"
    }
   ],
   "source": [
    "ageinyears"
   ]
  },
  {
   "cell_type": "code",
   "execution_count": 514,
   "metadata": {
    "collapsed": false
   },
   "outputs": [
    {
     "data": {
      "text/plain": [
       "LabelEncoder()"
      ]
     },
     "execution_count": 514,
     "metadata": {},
     "output_type": "execute_result"
    }
   ],
   "source": [
    "le_outcome = preprocessing.LabelEncoder()\n",
    "le_outcome.fit(animals['OutcomeType'])\n",
    "y = le_outcome.transform(animals['OutcomeType'])\n",
    "Data_for_label = animals.drop(['AnimalID', 'OutcomeType', 'OutcomeSubtype'], axis = 1)\n",
    "\n",
    "Data_for_label['Sex'] = Data_for_label.SexuponOutcome.apply(get_sex)\n",
    "Data_for_label['Neutered'] = Data_for_label.SexuponOutcome.apply(get_neutered)\n",
    "\n",
    "le_type = preprocessing.LabelEncoder()\n",
    "le_type.fit(Data_for_label['AnimalType'])\n",
    "\n",
    "le_neutered = preprocessing.LabelEncoder()\n",
    "le_neutered.fit(Data_for_label['Neutered'])\n",
    "\n",
    "le_sex = preprocessing.LabelEncoder()\n",
    "le_sex.fit(Data_for_label['Sex'])\n"
   ]
  },
  {
   "cell_type": "code",
   "execution_count": 515,
   "metadata": {
    "collapsed": false
   },
   "outputs": [],
   "source": [
    "\n",
    "Data_for_label['Hour'] = Data_for_label.DateTime.map( lambda x: pd.to_datetime(x).hour )\n",
    "Data_for_label['Hour'] = Data_for_label.Hour.apply(day)\n",
    "\n",
    "my_hours = Data_for_label.Hour.unique()\n",
    "my_breeds.append('other')\n",
    "breeds_label = ['new_Breeds_'+i for i in my_breeds]\n",
    "hours_label = ['Hour_'+i for i in my_hours]"
   ]
  },
  {
   "cell_type": "code",
   "execution_count": 516,
   "metadata": {
    "collapsed": false
   },
   "outputs": [],
   "source": [
    "#Test Case\n",
    "Animal_type = 'Cat'\n",
    "name ='Has Name'\n",
    "sex = 'male'\n",
    "neutered = 'neutered'\n",
    "Age_in_Years = 15\n",
    "breed = 'other'\n",
    "Day_of_Week = 'Weekend'\n",
    "hours = 17\n",
    "dist = 'Extra Trees Classifier'"
   ]
  },
  {
   "cell_type": "code",
   "execution_count": 517,
   "metadata": {
    "collapsed": false
   },
   "outputs": [],
   "source": [
    "    #Test Case\n",
    "    #name\n",
    "    if name == 'Has Name':\n",
    "        name_case = 1\n",
    "    else:\n",
    "        name_case = 0\n",
    "    #AnimalType    \n",
    "    AnimalType_case =le_type.transform([Animal_type])[0]\n",
    "    #Sex\n",
    "    sex_case = le_sex.transform([sex])[0]\n",
    "    #Neutered\n",
    "    neutered_case = le_neutered.transform([neutered])[0]\n",
    "    #ageinyear\n",
    "    age_case = find_nearest(ageinyears,Age_in_Years)\n",
    "    #Day of Week\n",
    "    if Day_of_Week == \"Weekday\":\n",
    "        day_case = 1\n",
    "    else:\n",
    "        day_case = 0\n",
    "    #breed -- a DataFrame\n",
    "    zero_data = np.zeros(shape=(1,len(breeds_label)))\n",
    "    breed_case = pd.DataFrame(zero_data, columns=breeds_label)\n",
    "    breed_case['new_Breeds_'+breed]=1\n",
    "    #hour -- a DataFrame\n",
    "    zero_data = np.zeros(shape=(1,len(hours_label)))\n",
    "    hours_case = pd.DataFrame(zero_data, columns=hours_label)\n",
    "    hours_case['Hour_'+day(hours)]=1\n",
    "    \n",
    "    #Define test_case dataframe\n",
    "    test_case = pd.DataFrame(data = {'Name':[name_case], 'AnimalType':[AnimalType_case], \n",
    "                              'Sex':[sex_case], 'Neutered':[neutered_case], \n",
    "                              'AgeInYears':[age_case],'Day_of_Week': [day_case]})\n",
    "    test_case = pd.concat([test_case, breed_case, hours_case], axis=1)[X_test.columns]\n",
    "    \n",
    "    "
   ]
  },
  {
   "cell_type": "code",
   "execution_count": 518,
   "metadata": {
    "collapsed": true
   },
   "outputs": [],
   "source": [
    "#to get a better prediction in Age_in_Years, I defined the function to find the data matching\n",
    "def find_nearest(array,value):\n",
    "    idx = (np.abs(array-value)).argmin()\n",
    "    return array[idx]"
   ]
  },
  {
   "cell_type": "code",
   "execution_count": 519,
   "metadata": {
    "collapsed": false
   },
   "outputs": [],
   "source": [
    "def update(Animal_type = 'Dog', name ='Has Name',sex = 'female',neutered = 'neutered', Age_in_Years = 1,breed = 'Domestic Shorthair',\n",
    "          Day_of_Week = 'Weekday',hours = 17, Algorithm  = 'Extra Trees Classifier'):\n",
    "    '''columns:u'Name', u'AnimalType', u'Sex', u'Neutered', u'AgeInYears',\n",
    "       u'Day_of_Week', u'new_Breeds_Australian Cattle Dog',\n",
    "       u'new_Breeds_Australian Shepherd', u'new_Breeds_Border Collie',\n",
    "       u'new_Breeds_Boxer', u'new_Breeds_Bulldog', u'new_Breeds_Catahoula',\n",
    "       u'new_Breeds_Chihuahua Shorthair', u'new_Breeds_Dachshund',\n",
    "       u'new_Breeds_Domestic Longhair', u'new_Breeds_Domestic Medium Hair',\n",
    "       u'new_Breeds_Domestic Shorthair', u'new_Breeds_German Shepherd',\n",
    "       u'new_Breeds_Husky', u'new_Breeds_Labrador Retriever',\n",
    "       u'new_Breeds_Miniature Poodle', u'new_Breeds_Pit Bull',\n",
    "       u'new_Breeds_Rat Terrier', u'new_Breeds_Rottweiler',\n",
    "       u'new_Breeds_Siamese', u'new_Breeds_other', u'Hour_0', u'Hour_12and13',\n",
    "       u'Hour_14and15', u'Hour_16and19', u'Hour_17and18', u'Hour_7and8',\n",
    "       u'Hour_9', u'Hour_other_time'  '''\n",
    "    #name\n",
    "    if name == 'Has Name':\n",
    "        name_case = 1\n",
    "    else:\n",
    "        name_case = 0\n",
    "    #AnimalType    \n",
    "    AnimalType_case =le_type.transform([Animal_type])[0]\n",
    "    #Sex\n",
    "    sex_case = le_sex.transform([sex])[0]\n",
    "    #Neutered\n",
    "    neutered_case = le_neutered.transform([neutered])[0]\n",
    "    #ageinyear\n",
    "    age_case = find_nearest(ageinyears,Age_in_Years)\n",
    "    #Day of Week\n",
    "    if Day_of_Week == \"Weekday\":\n",
    "        day_case = 1\n",
    "    else:\n",
    "        day_case = 0\n",
    "    #breed -- a DataFrame\n",
    "    zero_data = np.zeros(shape=(1,len(breeds_label)))\n",
    "    breed_case = pd.DataFrame(zero_data, columns=breeds_label)\n",
    "    breed_case[breed]=1\n",
    "    #hour -- a DataFrame\n",
    "    zero_data = np.zeros(shape=(1,len(hours_label)))\n",
    "    hours_case = pd.DataFrame(zero_data, columns=hours_label)\n",
    "    hours_case['Hour_'+day(hours)]=1\n",
    "    \n",
    "    #Define test_case dataframe\n",
    "    test_case = pd.DataFrame({'Name':[name_case], 'AnimalType':[AnimalType_case], \n",
    "                              'Sex':[sex_case], 'Neutered':[neutered_case], \n",
    "                              'AgeInYears':[age_case],'Day_of_Week': [day_case]})\n",
    "    test_case = pd.concat([test_case, breed_case,hours_case], axis=1)[X_train.columns]\n",
    "    \n",
    "    if Algorithm == 'Random Forest Classifier':\n",
    "        return \"Usiing \"+ Algorithm +\", Predicted outcome is : \" + le_outcome.inverse_transform(rf.predict(test_case)[0])\n",
    "    elif Algorithm =='Calibrated Classifier':\n",
    "        return \"Usiing \"+ Algorithm +\", Predicted outcome is : \" + le_outcome.inverse_transform(Calib.predict(test_case)[0])\n",
    "    elif Algorithm == 'Support Vector Machine':\n",
    "        return \"Usiing \"+ Algorithm +\", Predicted outcome is : \" + le_outcome.inverse_transform(S.predict(test_case)[0])\n",
    "    elif Algorithm == 'Extra Trees Classifier':\n",
    "        return \"Usiing \"+ Algorithm +\", Predicted outcome is : \" + le_outcome.inverse_transform(extra.predict(test_case)[0])\n",
    "    \n",
    "#    return str(le_type.inverse_transform([AnimalType_case]))"
   ]
  },
  {
   "cell_type": "code",
   "execution_count": 520,
   "metadata": {
    "collapsed": false
   },
   "outputs": [
    {
     "data": {
      "text/plain": [
       "'Usiing Extra Trees Classifier, Predicted outcome is : Adoption'"
      ]
     },
     "metadata": {},
     "output_type": "display_data"
    }
   ],
   "source": [
    "interact(update, Animal_type = ['Dog','Cat'], name =['Has Name','No Name'],sex = ['female','male'],neutered = ['neutered', 'intact', 'unknown'],\n",
    "         Age_in_Years = FloatSlider(min=0, max=20, step=0.01,value=1),breed = my_breeds,Day_of_Week = ['Weekday','Weekend'],hours = FloatSlider(min=0, max=23, step=1,value=17),\n",
    "        Algorithm = ['Random Forest Classifier','Calibrated Classifier','Support Vector Machine','Extra Trees Classifier']);"
   ]
  }
 ],
 "metadata": {
  "kernelspec": {
   "display_name": "Python 2",
   "language": "python",
   "name": "python2"
  },
  "language_info": {
   "codemirror_mode": {
    "name": "ipython",
    "version": 2
   },
   "file_extension": ".py",
   "mimetype": "text/x-python",
   "name": "python",
   "nbconvert_exporter": "python",
   "pygments_lexer": "ipython2",
   "version": "2.7.13"
  }
 },
 "nbformat": 4,
 "nbformat_minor": 2
}
